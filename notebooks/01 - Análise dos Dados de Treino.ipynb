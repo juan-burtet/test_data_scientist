{
 "cells": [
  {
   "cell_type": "markdown",
   "metadata": {},
   "source": [
    "# Análise dos Dados de Treino\n",
    "\n",
    "A primeira etapa a ser feito durante o projeto é a __Análise dos Dados__. Como nesta avaliação, os dados de treino e teste já estão separados, iremos considerar que o teste é os dados com o modelo já em produção. __Sendo assim, apenas o melhor modelo treinado será utilizado no conjunto de teste, para não ter nenhum vazamento de informação.__"
   ]
  },
  {
   "cell_type": "markdown",
   "metadata": {},
   "source": [
    "## Pacotes e inicializações importantes"
   ]
  },
  {
   "cell_type": "code",
   "execution_count": 1,
   "metadata": {},
   "outputs": [],
   "source": [
    "import pandas as pd\n",
    "import numpy as np\n",
    "import matplotlib.pyplot as plt\n",
    "from matplotlib import rcParams\n",
    "import seaborn as sns\n",
    "from scipy import stats\n",
    "\n",
    "%matplotlib inline\n",
    "sns.set()\n",
    "\n",
    "# usado para o valor float do Pandas ficar neste formato\n",
    "pd.options.display.float_format = '{:,.2f}'.format\n",
    "\n",
    "# Tamanho da Figura ao imprimir os gráficos\n",
    "rcParams['figure.figsize'] = 15, 10"
   ]
  },
  {
   "cell_type": "markdown",
   "metadata": {},
   "source": [
    "## Leitura dos dados de treino"
   ]
  },
  {
   "cell_type": "code",
   "execution_count": 2,
   "metadata": {},
   "outputs": [
    {
     "data": {
      "text/html": [
       "<div>\n",
       "<style scoped>\n",
       "    .dataframe tbody tr th:only-of-type {\n",
       "        vertical-align: middle;\n",
       "    }\n",
       "\n",
       "    .dataframe tbody tr th {\n",
       "        vertical-align: top;\n",
       "    }\n",
       "\n",
       "    .dataframe thead th {\n",
       "        text-align: right;\n",
       "    }\n",
       "</style>\n",
       "<table border=\"1\" class=\"dataframe\">\n",
       "  <thead>\n",
       "    <tr style=\"text-align: right;\">\n",
       "      <th></th>\n",
       "      <th>inadimplente</th>\n",
       "      <th>util_linhas_inseguras</th>\n",
       "      <th>idade</th>\n",
       "      <th>vezes_passou_de_30_59_dias</th>\n",
       "      <th>razao_debito</th>\n",
       "      <th>salario_mensal</th>\n",
       "      <th>numero_linhas_crdto_aberto</th>\n",
       "      <th>numero_vezes_passou_90_dias</th>\n",
       "      <th>numero_emprestimos_imobiliarios</th>\n",
       "      <th>numero_de_vezes_que_passou_60_89_dias</th>\n",
       "      <th>numero_de_dependentes</th>\n",
       "    </tr>\n",
       "  </thead>\n",
       "  <tbody>\n",
       "    <tr>\n",
       "      <th>0</th>\n",
       "      <td>1</td>\n",
       "      <td>0.77</td>\n",
       "      <td>45</td>\n",
       "      <td>2</td>\n",
       "      <td>0.80</td>\n",
       "      <td>9,120.00</td>\n",
       "      <td>13</td>\n",
       "      <td>0</td>\n",
       "      <td>6</td>\n",
       "      <td>0</td>\n",
       "      <td>2.00</td>\n",
       "    </tr>\n",
       "    <tr>\n",
       "      <th>1</th>\n",
       "      <td>0</td>\n",
       "      <td>0.96</td>\n",
       "      <td>40</td>\n",
       "      <td>0</td>\n",
       "      <td>0.12</td>\n",
       "      <td>2,600.00</td>\n",
       "      <td>4</td>\n",
       "      <td>0</td>\n",
       "      <td>0</td>\n",
       "      <td>0</td>\n",
       "      <td>1.00</td>\n",
       "    </tr>\n",
       "    <tr>\n",
       "      <th>2</th>\n",
       "      <td>0</td>\n",
       "      <td>0.66</td>\n",
       "      <td>38</td>\n",
       "      <td>1</td>\n",
       "      <td>0.09</td>\n",
       "      <td>3,042.00</td>\n",
       "      <td>2</td>\n",
       "      <td>1</td>\n",
       "      <td>0</td>\n",
       "      <td>0</td>\n",
       "      <td>0.00</td>\n",
       "    </tr>\n",
       "    <tr>\n",
       "      <th>3</th>\n",
       "      <td>0</td>\n",
       "      <td>0.23</td>\n",
       "      <td>30</td>\n",
       "      <td>0</td>\n",
       "      <td>0.04</td>\n",
       "      <td>3,300.00</td>\n",
       "      <td>5</td>\n",
       "      <td>0</td>\n",
       "      <td>0</td>\n",
       "      <td>0</td>\n",
       "      <td>0.00</td>\n",
       "    </tr>\n",
       "    <tr>\n",
       "      <th>4</th>\n",
       "      <td>0</td>\n",
       "      <td>0.91</td>\n",
       "      <td>49</td>\n",
       "      <td>1</td>\n",
       "      <td>0.02</td>\n",
       "      <td>63,588.00</td>\n",
       "      <td>7</td>\n",
       "      <td>0</td>\n",
       "      <td>1</td>\n",
       "      <td>0</td>\n",
       "      <td>0.00</td>\n",
       "    </tr>\n",
       "  </tbody>\n",
       "</table>\n",
       "</div>"
      ],
      "text/plain": [
       "   inadimplente  util_linhas_inseguras  idade  vezes_passou_de_30_59_dias  \\\n",
       "0             1                   0.77     45                           2   \n",
       "1             0                   0.96     40                           0   \n",
       "2             0                   0.66     38                           1   \n",
       "3             0                   0.23     30                           0   \n",
       "4             0                   0.91     49                           1   \n",
       "\n",
       "   razao_debito  salario_mensal  numero_linhas_crdto_aberto  \\\n",
       "0          0.80        9,120.00                          13   \n",
       "1          0.12        2,600.00                           4   \n",
       "2          0.09        3,042.00                           2   \n",
       "3          0.04        3,300.00                           5   \n",
       "4          0.02       63,588.00                           7   \n",
       "\n",
       "   numero_vezes_passou_90_dias  numero_emprestimos_imobiliarios  \\\n",
       "0                            0                                6   \n",
       "1                            0                                0   \n",
       "2                            1                                0   \n",
       "3                            0                                0   \n",
       "4                            0                                1   \n",
       "\n",
       "   numero_de_vezes_que_passou_60_89_dias  numero_de_dependentes  \n",
       "0                                      0                   2.00  \n",
       "1                                      0                   1.00  \n",
       "2                                      0                   0.00  \n",
       "3                                      0                   0.00  \n",
       "4                                      0                   0.00  "
      ]
     },
     "execution_count": 2,
     "metadata": {},
     "output_type": "execute_result"
    }
   ],
   "source": [
    "train_path = '../data/raw/treino.csv'\n",
    "\n",
    "df = pd.read_csv(train_path, sep=',')\n",
    "df.head()"
   ]
  },
  {
   "cell_type": "markdown",
   "metadata": {},
   "source": [
    "# Análise Inicial\n",
    "\n",
    "Antes de fazer uma análise a fundo das variáveis, será feito uma análise inicial que dará as seguintes informações:\n",
    "\n",
    "* Formato do `DataFrame` (Quantidade de Linhas, Quantidade de Colunas)\n",
    "* Distribuição da variável **inadimplente** (estamos trabalhando com um conjunto de dados balanceado?)\n",
    "* Os tipos de cada uma das variáveis"
   ]
  },
  {
   "cell_type": "markdown",
   "metadata": {},
   "source": [
    "## Tamanho dos Dados"
   ]
  },
  {
   "cell_type": "markdown",
   "metadata": {},
   "source": [
    "Antes de tudo, podemos verificar o tamanho do `DataFrame` para se ter uma noção da quantidade de dados que serão utilizados"
   ]
  },
  {
   "cell_type": "code",
   "execution_count": 3,
   "metadata": {},
   "outputs": [
    {
     "data": {
      "text/plain": [
       "(110000, 11)"
      ]
     },
     "execution_count": 3,
     "metadata": {},
     "output_type": "execute_result"
    }
   ],
   "source": [
    "df.shape"
   ]
  },
  {
   "cell_type": "markdown",
   "metadata": {},
   "source": [
    "## Distribuição dos dados `inadimplente`"
   ]
  },
  {
   "cell_type": "markdown",
   "metadata": {},
   "source": [
    "Outro ponto importante que é bom avaliar prematuramente é a distribuição dos dados, para verificar se o dataset é balanceado ou não."
   ]
  },
  {
   "cell_type": "code",
   "execution_count": 4,
   "metadata": {},
   "outputs": [
    {
     "data": {
      "text/html": [
       "<div>\n",
       "<style scoped>\n",
       "    .dataframe tbody tr th:only-of-type {\n",
       "        vertical-align: middle;\n",
       "    }\n",
       "\n",
       "    .dataframe tbody tr th {\n",
       "        vertical-align: top;\n",
       "    }\n",
       "\n",
       "    .dataframe thead th {\n",
       "        text-align: right;\n",
       "    }\n",
       "</style>\n",
       "<table border=\"1\" class=\"dataframe\">\n",
       "  <thead>\n",
       "    <tr style=\"text-align: right;\">\n",
       "      <th></th>\n",
       "      <th>quantidade</th>\n",
       "      <th>porcentagem</th>\n",
       "    </tr>\n",
       "  </thead>\n",
       "  <tbody>\n",
       "    <tr>\n",
       "      <th>Não Inadimplente</th>\n",
       "      <td>102669</td>\n",
       "      <td>0.93</td>\n",
       "    </tr>\n",
       "    <tr>\n",
       "      <th>Inadimplente</th>\n",
       "      <td>7331</td>\n",
       "      <td>0.07</td>\n",
       "    </tr>\n",
       "  </tbody>\n",
       "</table>\n",
       "</div>"
      ],
      "text/plain": [
       "                  quantidade  porcentagem\n",
       "Não Inadimplente      102669         0.93\n",
       "Inadimplente            7331         0.07"
      ]
     },
     "execution_count": 4,
     "metadata": {},
     "output_type": "execute_result"
    }
   ],
   "source": [
    "# organiza os dados em formato de DataFrame\n",
    "info = pd.DataFrame(df['inadimplente'].value_counts())\n",
    "info.columns = ['quantidade']\n",
    "info['porcentagem'] = info['quantidade'] / info['quantidade'].sum()\n",
    "info.index = ['Não Inadimplente', 'Inadimplente']\n",
    "\n",
    "info"
   ]
  },
  {
   "cell_type": "markdown",
   "metadata": {},
   "source": [
    "Além da visualização em formato `DataFrame`, é possível apresentar a informação em um gráfico de pizza, para termos uma noção de proporção dos dados."
   ]
  },
  {
   "cell_type": "code",
   "execution_count": 5,
   "metadata": {},
   "outputs": [
    {
     "data": {
      "image/png": "[encoded data removed]",
      "text/plain": [
       "<Figure size 1080x720 with 1 Axes>"
      ]
     },
     "metadata": {},
     "output_type": "display_data"
    }
   ],
   "source": [
    "info.plot.pie(y='quantidade', autopct=\"%.2f%%\")\n",
    "\n",
    "plt.title('Distribuição do Dataset')\n",
    "plt.ylabel('')\n",
    "plt.show()"
   ]
  },
  {
   "cell_type": "markdown",
   "metadata": {},
   "source": [
    "Neste caso, a distribuição da variável **inadimplente** é de 93/7, onde 93% dos dados **NÃO SÃO** inadimplentes e 7% **SÃO** inadimplentes. Isto é algo para se tomar cuidado, pois em um modelo que apenas respondesse como **NÃO INADIMPLENTE** teria uma acurácia de 93%, o que parece bom como um resultado sem nenhum contexto, mas se tratando de um modelo que não é capaz de fazer nada. "
   ]
  },
  {
   "cell_type": "markdown",
   "metadata": {},
   "source": [
    "## Tipos das variáveis"
   ]
  },
  {
   "cell_type": "markdown",
   "metadata": {},
   "source": [
    "E por fim, verificamos os tipos de cada uma das variáveis do `DataFrame` através do método **dtypes**"
   ]
  },
  {
   "cell_type": "code",
   "execution_count": 6,
   "metadata": {},
   "outputs": [
    {
     "data": {
      "text/plain": [
       "inadimplente                               int64\n",
       "util_linhas_inseguras                    float64\n",
       "idade                                      int64\n",
       "vezes_passou_de_30_59_dias                 int64\n",
       "razao_debito                             float64\n",
       "salario_mensal                           float64\n",
       "numero_linhas_crdto_aberto                 int64\n",
       "numero_vezes_passou_90_dias                int64\n",
       "numero_emprestimos_imobiliarios            int64\n",
       "numero_de_vezes_que_passou_60_89_dias      int64\n",
       "numero_de_dependentes                    float64\n",
       "dtype: object"
      ]
     },
     "execution_count": 6,
     "metadata": {},
     "output_type": "execute_result"
    }
   ],
   "source": [
    "df.dtypes"
   ]
  },
  {
   "cell_type": "markdown",
   "metadata": {},
   "source": [
    "Todas as variáveis do dataset são númericas, o que já é um trabalho a menos pois não teremos que trabalhar com transformações necessárias em variáveis categóricas."
   ]
  },
  {
   "cell_type": "markdown",
   "metadata": {},
   "source": [
    "Com as informações adquiridas, podemos passar para uma análise mais afundo de cada uma das variáveis."
   ]
  },
  {
   "cell_type": "markdown",
   "metadata": {},
   "source": [
    "# Análisando cada uma das variáveis\n",
    "\n",
    "Nesta seção será feito uma análise mais afundo de cada uma das variáveis, onde será verificado sua distribuição, se existe valores *outliers* e se seu comportamento é muito diferente no caso de ser **inadimplente ou não**."
   ]
  },
  {
   "cell_type": "markdown",
   "metadata": {},
   "source": [
    "No arquivo **README.md** do projeto é feito uma descrição de cada uma das variáveis. Esta informação será apresentada aqui para ter um melhor entendimento de cada uma delas (removendo a variável **inadimplente**)\n",
    "\n",
    "| Váriavel \t| Descrição \t|\n",
    "|:-\t|:-\t|\n",
    "| idade | *A idade do cliente* |\n",
    "| numero_de_dependentes | *O número de pessoas dependentes do cliente* |\n",
    "| salario_mensal | *Salário mensal do cliente* |\n",
    "| numero_emprestimos_imobiliarios | *Quantidade de empréstimos imobiliários que o cliente possui em aberto* |\n",
    "| numero_vezes_passou_90_dias | *Número de vezes que o tomador passou mais de 90 dias em atraso* |\n",
    "| util_linhas_inseguras | *Quanto que o cliente está usando, relativamente ao limite dele, de linhas de crédito que não são seguradas por qualquer bem do tomador e.g: imoveis, carros etc* |\n",
    "| vezes_passou_de_30_59_dias | *Número de vezes que o cliente atrasou, entre 30 e 59 dias, o pagamento de um empréstimo* |\n",
    "| razao_debito | *Razão entre as dívidas e o patrimônio do tomador. razão débito = Dividas/Patrimônio* |\n",
    "| numero_linhas_crdto_aberto | *Número de empréstimos em aberto pelo cliente* |\n",
    "| numero_de_vezes_que_passou_60_89_dias | *Número de vezes que o cliente atrasou, entre 60 e 89 dias, o pagamento de um empréstimo* |\n",
    "\n",
    "**Para uma melhor organização, a análise será feita na mesma ordem da tabela.**"
   ]
  },
  {
   "cell_type": "markdown",
   "metadata": {},
   "source": [
    "## Variável: `idade`\n",
    "\n",
    "A variável idade é auto explicatória, pois indica a idade do cliente."
   ]
  },
  {
   "cell_type": "markdown",
   "metadata": {},
   "source": [
    "### Valores `NaNs`\n",
    "\n",
    "Uma das primeiras verificações a ser feita ao avaliar uma coluna é procurar a presença de valores **NaNs** (ou nulos)"
   ]
  },
  {
   "cell_type": "code",
   "execution_count": 7,
   "metadata": {},
   "outputs": [],
   "source": [
    "def verifica_nans(column):\n",
    "    \n",
    "    # Quantidade de NaNs\n",
    "    total = df[column].isna().sum()\n",
    "    true_qt = df.query('inadimplente == 1')[column].isna().sum()\n",
    "    false_qt = total - true_qt\n",
    "    \n",
    "    # Porcentagem de NaNs no conjunto\n",
    "    total_per = total / df.shape[0]\n",
    "    true_per = true_qt / df.query('inadimplente == 1').shape[0]\n",
    "    false_per = false_qt / df.query('inadimplente == 0').shape[0]\n",
    "    \n",
    "    print('Verificando a coluna', column)\n",
    "    print('Quantidade de valores nulos: {} [{:.2f}%]'.format(\n",
    "        total, total_per * 100))\n",
    "    print('Quantidade de valores nulos (inadimplente): {} [{:.2f}%]'.format(\n",
    "        true_qt, true_per * 100))\n",
    "    print('Quantidade de valores nulos (não inadimplente): {} [{:.2f}%]'.format(\n",
    "        false_qt, false_per * 100))"
   ]
  },
  {
   "cell_type": "code",
   "execution_count": 8,
   "metadata": {},
   "outputs": [
    {
     "name": "stdout",
     "output_type": "stream",
     "text": [
      "Verificando a coluna idade\n",
      "Quantidade de valores nulos: 0 [0.00%]\n",
      "Quantidade de valores nulos (inadimplente): 0 [0.00%]\n",
      "Quantidade de valores nulos (não inadimplente): 0 [0.00%]\n"
     ]
    }
   ],
   "source": [
    "verifica_nans('idade')"
   ]
  },
  {
   "cell_type": "markdown",
   "metadata": {},
   "source": [
    "No caso da variável **idade**, não existe nenhum registro de valores nulos."
   ]
  },
  {
   "cell_type": "markdown",
   "metadata": {},
   "source": [
    "### Distribuição\n",
    "\n",
    "A primeira etapa de verificar a variável, é apresentar sua distribuição. Felizmente, o **Pandas** possuí um método `describe` que já ajuda bastante neste processo, pois apresenta informações sobre a média, desvio padrão, valor mínimo, primeiro quartil, mediana, terceiro quartil e valor máximo."
   ]
  },
  {
   "cell_type": "code",
   "execution_count": 9,
   "metadata": {},
   "outputs": [
    {
     "data": {
      "text/plain": [
       "count   110,000.00\n",
       "mean         52.26\n",
       "std          14.77\n",
       "min           0.00\n",
       "25%          41.00\n",
       "50%          52.00\n",
       "75%          63.00\n",
       "max         109.00\n",
       "Name: idade, dtype: float64"
      ]
     },
     "execution_count": 9,
     "metadata": {},
     "output_type": "execute_result"
    }
   ],
   "source": [
    "df['idade'].describe()"
   ]
  },
  {
   "cell_type": "markdown",
   "metadata": {},
   "source": [
    "Além disso, utilizando o método `groupby` do **Pandas**, é possível agrupar os dados pelos valores de uma variável. Neste caso, utilizando a coluna **inadimplente**, é possível visualizar a distribuição da idade para os dados de inadimplentes e não inadimplentes."
   ]
  },
  {
   "cell_type": "code",
   "execution_count": 10,
   "metadata": {},
   "outputs": [
    {
     "data": {
      "text/html": [
       "<div>\n",
       "<style scoped>\n",
       "    .dataframe tbody tr th:only-of-type {\n",
       "        vertical-align: middle;\n",
       "    }\n",
       "\n",
       "    .dataframe tbody tr th {\n",
       "        vertical-align: top;\n",
       "    }\n",
       "\n",
       "    .dataframe thead th {\n",
       "        text-align: right;\n",
       "    }\n",
       "</style>\n",
       "<table border=\"1\" class=\"dataframe\">\n",
       "  <thead>\n",
       "    <tr style=\"text-align: right;\">\n",
       "      <th></th>\n",
       "      <th>count</th>\n",
       "      <th>mean</th>\n",
       "      <th>std</th>\n",
       "      <th>min</th>\n",
       "      <th>25%</th>\n",
       "      <th>50%</th>\n",
       "      <th>75%</th>\n",
       "      <th>max</th>\n",
       "    </tr>\n",
       "    <tr>\n",
       "      <th>inadimplente</th>\n",
       "      <th></th>\n",
       "      <th></th>\n",
       "      <th></th>\n",
       "      <th></th>\n",
       "      <th></th>\n",
       "      <th></th>\n",
       "      <th></th>\n",
       "      <th></th>\n",
       "    </tr>\n",
       "  </thead>\n",
       "  <tbody>\n",
       "    <tr>\n",
       "      <th>0</th>\n",
       "      <td>102,669.00</td>\n",
       "      <td>52.71</td>\n",
       "      <td>14.78</td>\n",
       "      <td>0.00</td>\n",
       "      <td>42.00</td>\n",
       "      <td>52.00</td>\n",
       "      <td>63.00</td>\n",
       "      <td>109.00</td>\n",
       "    </tr>\n",
       "    <tr>\n",
       "      <th>1</th>\n",
       "      <td>7,331.00</td>\n",
       "      <td>45.94</td>\n",
       "      <td>13.00</td>\n",
       "      <td>21.00</td>\n",
       "      <td>36.00</td>\n",
       "      <td>45.00</td>\n",
       "      <td>54.00</td>\n",
       "      <td>99.00</td>\n",
       "    </tr>\n",
       "  </tbody>\n",
       "</table>\n",
       "</div>"
      ],
      "text/plain": [
       "                  count  mean   std   min   25%   50%   75%    max\n",
       "inadimplente                                                      \n",
       "0            102,669.00 52.71 14.78  0.00 42.00 52.00 63.00 109.00\n",
       "1              7,331.00 45.94 13.00 21.00 36.00 45.00 54.00  99.00"
      ]
     },
     "execution_count": 10,
     "metadata": {},
     "output_type": "execute_result"
    }
   ],
   "source": [
    "df.groupby('inadimplente')['idade'].describe()"
   ]
  },
  {
   "cell_type": "markdown",
   "metadata": {},
   "source": [
    "Em conjunto com a visualização das distribuições, podemos verificar os dados através do seu histograma. Onde cada valor encontrado é quantificado para visualizar como é sua distribuição. Como os dados são bastante desbalanceados, será verificado a porcentagem de cada valor ao conjunto total ao inves da sua quantidade exata.\n",
    "\n",
    "**neste exemplo, será usado 110 bins, pois teremos um \"bin\" (classe) para cada uma das idades (0 até 109, com o 0 incluído)**"
   ]
  },
  {
   "cell_type": "code",
   "execution_count": 11,
   "metadata": {},
   "outputs": [
    {
     "data": {
      "image/png": "[encoded data removed]",
      "text/plain": [
       "<Figure size 1080x720 with 1 Axes>"
      ]
     },
     "metadata": {},
     "output_type": "display_data"
    }
   ],
   "source": [
    "sns.histplot(data=df, x='idade', hue='inadimplente', bins=110, \n",
    "             stat='probability', common_norm=False)\n",
    "\n",
    "plt.title('Histograma das Idades')\n",
    "plt.xlabel('Idade')\n",
    "plt.ylabel('Porcentagem')\n",
    "plt.show()"
   ]
  },
  {
   "cell_type": "markdown",
   "metadata": {},
   "source": [
    "Através da observação do gráfico, é possível verificar que a distribuição da idade nos **inadimplentes** está mais a esquerda, significando que em idades menores, a possibilidade de ser **inadimplente** é maior. Mesmo assim, essa diferença não é tão grande, em um modelo de *Machine Learning*, está informação pode ser utilizada mas não parece ser a melhor indicação."
   ]
  },
  {
   "cell_type": "markdown",
   "metadata": {},
   "source": [
    "### *Outliers*\n",
    "\n",
    "Um dado é chamado de **outlier** quando ele possuí um valor muito diferente da distribuição em si. Como a frase \"muito diferente\" pode indicar muitas coisas, existe algumas técnicas para encontrar tais valores. As mais utilizadas são as seguintes:\n",
    "\n",
    "* *Z-Score* - Verifica a distância do valor pra média, utilizando o desvio padrão. Em outras palavras, quantos \"desvio padrão\" o valor está da média. Em técnicas para eliminar outliers, normalmente é retirado valores que possuem um *Z-Score* maior que 3.\n",
    "* Distância Interquartilica - Neste método, é utilizado a distância interquartilica (IQR) para eliminar valores *outliers* do conjunto de dados. A IQR é calculado através do intervalo entre o Q3 e Q1. Para ver se um valor é outlier, é utilizado a fórmula: $Q1 - 1.5 * IQR$ para valores menores que o Q1 e $Q3 + 1.5 * IQR$ para valores maiores que o Q3.\n",
    "\n",
    "O Método da distância interquartilica é utilizado para verificar *outliers* em um gráfico de caixa. No nosso caso iremos utilizar o *Z-Score* para eliminar os outliers mas faremos a visualização através do gráfico de caixa."
   ]
  },
  {
   "cell_type": "code",
   "execution_count": 12,
   "metadata": {},
   "outputs": [
    {
     "name": "stdout",
     "output_type": "stream",
     "text": [
      "Quantidade de outliers (Z-Score): 36\n"
     ]
    }
   ],
   "source": [
    "outliers = df[(np.abs(stats.zscore(df['idade'])) > 3)]\n",
    "\n",
    "print('Quantidade de outliers (Z-Score):', outliers.shape[0])"
   ]
  },
  {
   "cell_type": "markdown",
   "metadata": {},
   "source": [
    "E agora podemos visualizar os dados representados por um gráfico de caixa."
   ]
  },
  {
   "cell_type": "code",
   "execution_count": 13,
   "metadata": {},
   "outputs": [
    {
     "data": {
      "image/png": "[encoded data removed]",
      "text/plain": [
       "<Figure size 1080x360 with 1 Axes>"
      ]
     },
     "metadata": {},
     "output_type": "display_data"
    }
   ],
   "source": [
    "plt.figure(figsize=(15,5))\n",
    "sns.boxplot(data=df, x='idade')\n",
    "\n",
    "plt.title('Gráfico de Caixa da Idade')\n",
    "plt.xlabel('Idade')\n",
    "plt.show()"
   ]
  },
  {
   "cell_type": "markdown",
   "metadata": {},
   "source": [
    "Os pontos fora dos limites dos \"bigodes\" do gráfico são os valores outliers. Podemos pegar a quantidade exata através da formula matemática."
   ]
  },
  {
   "cell_type": "code",
   "execution_count": 14,
   "metadata": {},
   "outputs": [],
   "source": [
    "def outliers_iqr(column):\n",
    "    df_notna = df.dropna(subset=[column])\n",
    "    \n",
    "    \n",
    "    q1 = df_notna[column].quantile(.25)\n",
    "    q3 = df_notna[column].quantile(.75)\n",
    "    iqr = q3 - q1\n",
    "\n",
    "    down_limit = q1 - 1.5 * iqr\n",
    "    up_limit = q3 + 1.5 * iqr\n",
    "    \n",
    "    outliers = df_notna[\n",
    "        (df_notna[column] > up_limit) | (df_notna[column] < down_limit)\n",
    "    ]\n",
    "    print('Quantidade de Outliers (IQR):', outliers.shape[0])"
   ]
  },
  {
   "cell_type": "code",
   "execution_count": 15,
   "metadata": {},
   "outputs": [
    {
     "name": "stdout",
     "output_type": "stream",
     "text": [
      "Quantidade de Outliers (IQR): 36\n"
     ]
    }
   ],
   "source": [
    "outliers_iqr('idade')"
   ]
  },
  {
   "cell_type": "markdown",
   "metadata": {},
   "source": [
    "## Variável: `numero_de_dependentes`\n",
    "\n",
    "Esta variável indica a quantidade de depentes que o cliente possuí.\n",
    "\n",
    "> OBS: Como já foi explicado os tópicos, as próximas análises não focará na explicação e sim no comportamento e *insights* encontrados da variável"
   ]
  },
  {
   "cell_type": "markdown",
   "metadata": {},
   "source": [
    "### Valores `NaNs`"
   ]
  },
  {
   "cell_type": "code",
   "execution_count": 16,
   "metadata": {},
   "outputs": [
    {
     "name": "stdout",
     "output_type": "stream",
     "text": [
      "Verificando a coluna numero_de_dependentes\n",
      "Quantidade de valores nulos: 2878 [2.62%]\n",
      "Quantidade de valores nulos (inadimplente): 132 [1.80%]\n",
      "Quantidade de valores nulos (não inadimplente): 2746 [2.67%]\n"
     ]
    }
   ],
   "source": [
    "verifica_nans('numero_de_dependentes')"
   ]
  },
  {
   "cell_type": "markdown",
   "metadata": {},
   "source": [
    "Nesta coluna, já começamos a encontrar valores nulos. Isto pode ser um problema, dependendo da quantidade encontrada. Existe diversas maneiras de contornar tais problemas, mas será testado essas maneiras em outro Notebook."
   ]
  },
  {
   "cell_type": "markdown",
   "metadata": {},
   "source": [
    "### Distribuição"
   ]
  },
  {
   "cell_type": "code",
   "execution_count": 17,
   "metadata": {},
   "outputs": [
    {
     "data": {
      "text/plain": [
       "count   107,122.00\n",
       "mean          0.76\n",
       "std           1.11\n",
       "min           0.00\n",
       "25%           0.00\n",
       "50%           0.00\n",
       "75%           1.00\n",
       "max          20.00\n",
       "Name: numero_de_dependentes, dtype: float64"
      ]
     },
     "execution_count": 17,
     "metadata": {},
     "output_type": "execute_result"
    }
   ],
   "source": [
    "df['numero_de_dependentes'].describe()"
   ]
  },
  {
   "cell_type": "markdown",
   "metadata": {},
   "source": [
    "Esta distribuição já é bem diferente da anterior, pois não possui um comportamento próximo da distribuição normal. Pelo menos, metade dos dados é totalmente zerado, e próximo de $1/4$ dos dados possui pelo menos 1 depedente. Veremos como é o comportamento se analisar separadamente em **inadimplente** e **não inadimplente**."
   ]
  },
  {
   "cell_type": "code",
   "execution_count": 18,
   "metadata": {},
   "outputs": [
    {
     "data": {
      "text/html": [
       "<div>\n",
       "<style scoped>\n",
       "    .dataframe tbody tr th:only-of-type {\n",
       "        vertical-align: middle;\n",
       "    }\n",
       "\n",
       "    .dataframe tbody tr th {\n",
       "        vertical-align: top;\n",
       "    }\n",
       "\n",
       "    .dataframe thead th {\n",
       "        text-align: right;\n",
       "    }\n",
       "</style>\n",
       "<table border=\"1\" class=\"dataframe\">\n",
       "  <thead>\n",
       "    <tr style=\"text-align: right;\">\n",
       "      <th></th>\n",
       "      <th>count</th>\n",
       "      <th>mean</th>\n",
       "      <th>std</th>\n",
       "      <th>min</th>\n",
       "      <th>25%</th>\n",
       "      <th>50%</th>\n",
       "      <th>75%</th>\n",
       "      <th>max</th>\n",
       "    </tr>\n",
       "    <tr>\n",
       "      <th>inadimplente</th>\n",
       "      <th></th>\n",
       "      <th></th>\n",
       "      <th></th>\n",
       "      <th></th>\n",
       "      <th></th>\n",
       "      <th></th>\n",
       "      <th></th>\n",
       "      <th></th>\n",
       "    </tr>\n",
       "  </thead>\n",
       "  <tbody>\n",
       "    <tr>\n",
       "      <th>0</th>\n",
       "      <td>99,923.00</td>\n",
       "      <td>0.74</td>\n",
       "      <td>1.11</td>\n",
       "      <td>0.00</td>\n",
       "      <td>0.00</td>\n",
       "      <td>0.00</td>\n",
       "      <td>1.00</td>\n",
       "      <td>20.00</td>\n",
       "    </tr>\n",
       "    <tr>\n",
       "      <th>1</th>\n",
       "      <td>7,199.00</td>\n",
       "      <td>0.94</td>\n",
       "      <td>1.21</td>\n",
       "      <td>0.00</td>\n",
       "      <td>0.00</td>\n",
       "      <td>0.00</td>\n",
       "      <td>2.00</td>\n",
       "      <td>8.00</td>\n",
       "    </tr>\n",
       "  </tbody>\n",
       "</table>\n",
       "</div>"
      ],
      "text/plain": [
       "                 count  mean  std  min  25%  50%  75%   max\n",
       "inadimplente                                               \n",
       "0            99,923.00  0.74 1.11 0.00 0.00 0.00 1.00 20.00\n",
       "1             7,199.00  0.94 1.21 0.00 0.00 0.00 2.00  8.00"
      ]
     },
     "execution_count": 18,
     "metadata": {},
     "output_type": "execute_result"
    }
   ],
   "source": [
    "df.groupby('inadimplente')['numero_de_dependentes'].describe()"
   ]
  },
  {
   "cell_type": "markdown",
   "metadata": {},
   "source": [
    "O comportamento dos dados são bem parecidos, apenas mudando que $1/4$ dos inadimplentes possuem pelo menos 2 dependentes. Com tais resultados, podemos visualizar qual a distribuição dos dados entre $75\\% - 100\\%$, para ver se existe muitos valores a cima de 2 dependentes."
   ]
  },
  {
   "cell_type": "code",
   "execution_count": 19,
   "metadata": {},
   "outputs": [
    {
     "data": {
      "text/plain": [
       "count   24,054.00\n",
       "mean         2.57\n",
       "std          0.83\n",
       "min          2.00\n",
       "25%          2.00\n",
       "50%          2.00\n",
       "75%          3.00\n",
       "max         20.00\n",
       "Name: numero_de_dependentes, dtype: float64"
      ]
     },
     "execution_count": 19,
     "metadata": {},
     "output_type": "execute_result"
    }
   ],
   "source": [
    "q3 = df['numero_de_dependentes'].quantile(.75)\n",
    "\n",
    "check_df = df[df['numero_de_dependentes'] > q3]\n",
    "check_df['numero_de_dependentes'].describe()"
   ]
  },
  {
   "cell_type": "markdown",
   "metadata": {},
   "source": [
    "Como pode ser visto, na parte \"superior\" dos dados, a maioria se encontra entre 2 e 3 dependentes, e o de valor 20 deve ser uma rara exceção. Só para ter certeza, vamos contabilizar tais valores."
   ]
  },
  {
   "cell_type": "code",
   "execution_count": 20,
   "metadata": {},
   "outputs": [
    {
     "data": {
      "text/plain": [
       "0.00     63652\n",
       "1.00     19416\n",
       "2.00     14306\n",
       "3.00      6898\n",
       "4.00      2111\n",
       "5.00       563\n",
       "6.00       115\n",
       "7.00        38\n",
       "8.00        16\n",
       "10.00        4\n",
       "9.00         2\n",
       "20.00        1\n",
       "Name: numero_de_dependentes, dtype: int64"
      ]
     },
     "execution_count": 20,
     "metadata": {},
     "output_type": "execute_result"
    }
   ],
   "source": [
    "df['numero_de_dependentes'].value_counts()"
   ]
  },
  {
   "cell_type": "markdown",
   "metadata": {},
   "source": [
    "Quantidades acima de 4 depedentes ficam escassas. Uma possível técnica para contornar tais problemas é agrupar valores em uma classe, como: \"5 ou mais dependentes\"."
   ]
  },
  {
   "cell_type": "markdown",
   "metadata": {},
   "source": [
    "Agora, veremos a visualização dos dados através do histograma."
   ]
  },
  {
   "cell_type": "code",
   "execution_count": 21,
   "metadata": {},
   "outputs": [
    {
     "data": {
      "image/png": "[encoded data removed]",
      "text/plain": [
       "<Figure size 1080x720 with 1 Axes>"
      ]
     },
     "metadata": {},
     "output_type": "display_data"
    }
   ],
   "source": [
    "sns.histplot(data=df, x='numero_de_dependentes', hue='inadimplente', bins=21,\n",
    "             stat='probability', common_norm=False)\n",
    "\n",
    "plt.title('Histograma dos Números de Dependentes')\n",
    "plt.xlabel('Número de Dependentes')\n",
    "plt.ylabel('Porcentagem')\n",
    "plt.show()"
   ]
  },
  {
   "cell_type": "markdown",
   "metadata": {},
   "source": [
    "### *Outliers*"
   ]
  },
  {
   "cell_type": "markdown",
   "metadata": {},
   "source": [
    "Como visto pela distribuição através do método `describe`, a média do \"dependentes\" é menor que $1$ (0.76) e o desvio padrão é um pouco maior que $1$ (1.11), dependendo da técnica utilizada, 4 dependentes já será considerado um outlier."
   ]
  },
  {
   "cell_type": "markdown",
   "metadata": {},
   "source": [
    "Sendo assim, veremos a quantidade de outliers usando as técnicas apresentadas anteriormente.\n",
    "\n",
    "**Lembrando: o Z-Score é indicado em uma distribuição próxima da normal, e como a maioria dos dados estão inseridos na esquerda, não parece ser a melhor maneira de trabalhar com tais dados**\n",
    "\n",
    "**Lembrando (2): Esta coluna possui dados nulos, então, para verificar os outliers, teremos que retira-los da coluna**"
   ]
  },
  {
   "cell_type": "code",
   "execution_count": 22,
   "metadata": {},
   "outputs": [
    {
     "name": "stdout",
     "output_type": "stream",
     "text": [
      "Quantidade de outliers (Z-Score): 739\n"
     ]
    }
   ],
   "source": [
    "df_notna = df.dropna(subset=['numero_de_dependentes'])\n",
    "outliers = df_notna[(np.abs(stats.zscore(df_notna['numero_de_dependentes'])) > 3)]\n",
    "\n",
    "print('Quantidade de outliers (Z-Score):', outliers.shape[0])"
   ]
  },
  {
   "cell_type": "markdown",
   "metadata": {},
   "source": [
    "Neste caso, $739$ valores foram considerados outliers. Veremos quais valores são estes:"
   ]
  },
  {
   "cell_type": "code",
   "execution_count": 23,
   "metadata": {},
   "outputs": [
    {
     "data": {
      "text/plain": [
       "5.00     563\n",
       "6.00     115\n",
       "7.00      38\n",
       "8.00      16\n",
       "10.00      4\n",
       "9.00       2\n",
       "20.00      1\n",
       "Name: numero_de_dependentes, dtype: int64"
      ]
     },
     "execution_count": 23,
     "metadata": {},
     "output_type": "execute_result"
    }
   ],
   "source": [
    "outliers['numero_de_dependentes'].value_counts()"
   ]
  },
  {
   "cell_type": "markdown",
   "metadata": {},
   "source": [
    "pelos valores, apenas 4 ou menos depedentes ficaram no dataset, o que neste caso seria uma grande perda. Em uma ultima verificação, veremos como esses outliers estão distribuidos entre **inadimplentes** e **não inadimplentes**."
   ]
  },
  {
   "cell_type": "code",
   "execution_count": 24,
   "metadata": {},
   "outputs": [
    {
     "data": {
      "text/plain": [
       "0    666\n",
       "1     73\n",
       "Name: inadimplente, dtype: int64"
      ]
     },
     "execution_count": 24,
     "metadata": {},
     "output_type": "execute_result"
    }
   ],
   "source": [
    "outliers['inadimplente'].value_counts()"
   ]
  },
  {
   "cell_type": "markdown",
   "metadata": {},
   "source": [
    "A grande maioria se encontra em **não inadimplentes**, MAS como os dados de **inadimplentes** são tão escassos, não seria uma boa ficar sem tais dados."
   ]
  },
  {
   "cell_type": "markdown",
   "metadata": {},
   "source": [
    "Por último, podemos visualizar o gráfico de caixa deste conjunto para ver como os outliers ficam encontrados."
   ]
  },
  {
   "cell_type": "code",
   "execution_count": 25,
   "metadata": {},
   "outputs": [
    {
     "data": {
      "image/png": "[encoded data removed]",
      "text/plain": [
       "<Figure size 1080x360 with 1 Axes>"
      ]
     },
     "metadata": {},
     "output_type": "display_data"
    }
   ],
   "source": [
    "plt.figure(figsize=(15,5))\n",
    "sns.boxplot(data=df, x='numero_de_dependentes')\n",
    "\n",
    "plt.title('Gráfico de Caixa do Número de Dependentes')\n",
    "plt.xlabel('Número de Dependentes')\n",
    "plt.show()"
   ]
  },
  {
   "cell_type": "markdown",
   "metadata": {},
   "source": [
    "Parece bem próximo do que foi visto usando o *Z-Score*, então, veremos a quantidade de outliers com essa técnica."
   ]
  },
  {
   "cell_type": "code",
   "execution_count": 26,
   "metadata": {},
   "outputs": [
    {
     "name": "stdout",
     "output_type": "stream",
     "text": [
      "Quantidade de Outliers (IQR): 9748\n"
     ]
    }
   ],
   "source": [
    "outliers_iqr('numero_de_dependentes')"
   ]
  },
  {
   "cell_type": "markdown",
   "metadata": {},
   "source": [
    "É, neste caso, a quantidade de outliers é MUITO maior, pois pela fórmula de $Q3 + 1.5 * IQR$ e com $\\{Q3 = 1.0 ; IQR = 1.0\\}$, a partir de 3 dependentes já é considerado *outlier*. Então, para tal conjunto, a simples retirada de *outliers* não parece ser a melhor solução. Então, teremos que utilizar outras técnicas (que serão vistas no Notebook de **Processamento de Dados**)"
   ]
  },
  {
   "cell_type": "markdown",
   "metadata": {},
   "source": [
    "## Variável: `salario_mensal`\n",
    "\n",
    "Esta variável indica o salário mensal do cliente."
   ]
  },
  {
   "cell_type": "markdown",
   "metadata": {},
   "source": [
    "### Valores `NaNs`"
   ]
  },
  {
   "cell_type": "code",
   "execution_count": 27,
   "metadata": {},
   "outputs": [
    {
     "name": "stdout",
     "output_type": "stream",
     "text": [
      "Verificando a coluna salario_mensal\n",
      "Quantidade de valores nulos: 21763 [19.78%]\n",
      "Quantidade de valores nulos (inadimplente): 1247 [17.01%]\n",
      "Quantidade de valores nulos (não inadimplente): 20516 [19.98%]\n"
     ]
    }
   ],
   "source": [
    "verifica_nans('salario_mensal')"
   ]
  },
  {
   "cell_type": "markdown",
   "metadata": {},
   "source": [
    "Analisando pela porcentagem, quase 20% dos dados são nulos! É uma quantidade considerável e por isso, durante a etapa de **Processamento dos Dados** terá que ser avaliado a melhor maneira de tratar esta informação."
   ]
  },
  {
   "cell_type": "markdown",
   "metadata": {},
   "source": [
    "### Distribuição"
   ]
  },
  {
   "cell_type": "code",
   "execution_count": 28,
   "metadata": {},
   "outputs": [
    {
     "data": {
      "text/plain": [
       "count      88,237.00\n",
       "mean        6,637.41\n",
       "std        13,383.95\n",
       "min             0.00\n",
       "25%         3,400.00\n",
       "50%         5,400.00\n",
       "75%         8,225.00\n",
       "max     3,008,750.00\n",
       "Name: salario_mensal, dtype: float64"
      ]
     },
     "execution_count": 28,
     "metadata": {},
     "output_type": "execute_result"
    }
   ],
   "source": [
    "df['salario_mensal'].describe()"
   ]
  },
  {
   "cell_type": "markdown",
   "metadata": {},
   "source": [
    "Aqui os valores começam a variar **bastante**, onde os valores passam de 0 até 3 milhões (isso que eu chamo de salário mensal). Para se ter um melhor entendimento, vamos verificar a distribuição dividindo entre **inadimplente** e **não inadimplente**."
   ]
  },
  {
   "cell_type": "code",
   "execution_count": 29,
   "metadata": {},
   "outputs": [
    {
     "data": {
      "text/html": [
       "<div>\n",
       "<style scoped>\n",
       "    .dataframe tbody tr th:only-of-type {\n",
       "        vertical-align: middle;\n",
       "    }\n",
       "\n",
       "    .dataframe tbody tr th {\n",
       "        vertical-align: top;\n",
       "    }\n",
       "\n",
       "    .dataframe thead th {\n",
       "        text-align: right;\n",
       "    }\n",
       "</style>\n",
       "<table border=\"1\" class=\"dataframe\">\n",
       "  <thead>\n",
       "    <tr style=\"text-align: right;\">\n",
       "      <th></th>\n",
       "      <th>count</th>\n",
       "      <th>mean</th>\n",
       "      <th>std</th>\n",
       "      <th>min</th>\n",
       "      <th>25%</th>\n",
       "      <th>50%</th>\n",
       "      <th>75%</th>\n",
       "      <th>max</th>\n",
       "    </tr>\n",
       "    <tr>\n",
       "      <th>inadimplente</th>\n",
       "      <th></th>\n",
       "      <th></th>\n",
       "      <th></th>\n",
       "      <th></th>\n",
       "      <th></th>\n",
       "      <th></th>\n",
       "      <th></th>\n",
       "      <th></th>\n",
       "    </tr>\n",
       "  </thead>\n",
       "  <tbody>\n",
       "    <tr>\n",
       "      <th>0</th>\n",
       "      <td>82,153.00</td>\n",
       "      <td>6,711.24</td>\n",
       "      <td>13,755.72</td>\n",
       "      <td>0.00</td>\n",
       "      <td>3,465.00</td>\n",
       "      <td>5,455.00</td>\n",
       "      <td>8,333.00</td>\n",
       "      <td>3,008,750.00</td>\n",
       "    </tr>\n",
       "    <tr>\n",
       "      <th>1</th>\n",
       "      <td>6,084.00</td>\n",
       "      <td>5,640.44</td>\n",
       "      <td>6,467.50</td>\n",
       "      <td>0.00</td>\n",
       "      <td>3,000.00</td>\n",
       "      <td>4,500.00</td>\n",
       "      <td>6,800.00</td>\n",
       "      <td>250,000.00</td>\n",
       "    </tr>\n",
       "  </tbody>\n",
       "</table>\n",
       "</div>"
      ],
      "text/plain": [
       "                 count     mean       std  min      25%      50%      75%  \\\n",
       "inadimplente                                                                \n",
       "0            82,153.00 6,711.24 13,755.72 0.00 3,465.00 5,455.00 8,333.00   \n",
       "1             6,084.00 5,640.44  6,467.50 0.00 3,000.00 4,500.00 6,800.00   \n",
       "\n",
       "                      max  \n",
       "inadimplente               \n",
       "0            3,008,750.00  \n",
       "1              250,000.00  "
      ]
     },
     "execution_count": 29,
     "metadata": {},
     "output_type": "execute_result"
    }
   ],
   "source": [
    "df.groupby('inadimplente')['salario_mensal'].describe()"
   ]
  },
  {
   "cell_type": "markdown",
   "metadata": {},
   "source": [
    "Com esta visualização, é possível verificar que os **inadimplentes** possuem um salário máximo bem menor, mas ainda assim é alto em comparação a média geral e a mediana. "
   ]
  },
  {
   "cell_type": "markdown",
   "metadata": {},
   "source": [
    "Para ter uma noção de quão alto são os valores do topo, vamos verificar apenas o $1/4$ final dos dados."
   ]
  },
  {
   "cell_type": "code",
   "execution_count": 30,
   "metadata": {},
   "outputs": [
    {
     "data": {
      "text/plain": [
       "count      22,058.00\n",
       "mean       13,404.30\n",
       "std        25,361.83\n",
       "min         8,226.00\n",
       "25%         9,383.00\n",
       "50%        10,738.00\n",
       "75%        13,500.00\n",
       "max     3,008,750.00\n",
       "Name: salario_mensal, dtype: float64"
      ]
     },
     "execution_count": 30,
     "metadata": {},
     "output_type": "execute_result"
    }
   ],
   "source": [
    "q3 = df['salario_mensal'].quantile(.75)\n",
    "\n",
    "check_df = df[df['salario_mensal'] > q3]\n",
    "check_df['salario_mensal'].describe()"
   ]
  },
  {
   "cell_type": "markdown",
   "metadata": {},
   "source": [
    "A súbida de informação continua sendo muito alta, então, para se ter uma melhor noção dos valores extremamente altos dos dados, veremos os $2\\%$ com maiores salários do conjunto."
   ]
  },
  {
   "cell_type": "code",
   "execution_count": 31,
   "metadata": {},
   "outputs": [
    {
     "data": {
      "text/plain": [
       "count       1,765.00\n",
       "mean       37,885.02\n",
       "std        85,521.35\n",
       "min        19,583.00\n",
       "25%        21,175.00\n",
       "50%        25,000.00\n",
       "75%        35,000.00\n",
       "max     3,008,750.00\n",
       "Name: salario_mensal, dtype: float64"
      ]
     },
     "execution_count": 31,
     "metadata": {},
     "output_type": "execute_result"
    }
   ],
   "source": [
    "p98 = df['salario_mensal'].quantile(.98)\n",
    "\n",
    "check_df = df[df['salario_mensal'] > p98]\n",
    "check_df['salario_mensal'].describe()"
   ]
  },
  {
   "cell_type": "markdown",
   "metadata": {},
   "source": [
    "Bom, os valores são altos aqui mas não chegam nem perto do maior. Então, para finalizar essa busca de uma vez por todas: será imprimido os 10 maiores salários mensais encontrados."
   ]
  },
  {
   "cell_type": "code",
   "execution_count": 32,
   "metadata": {},
   "outputs": [
    {
     "data": {
      "text/html": [
       "<div>\n",
       "<style scoped>\n",
       "    .dataframe tbody tr th:only-of-type {\n",
       "        vertical-align: middle;\n",
       "    }\n",
       "\n",
       "    .dataframe tbody tr th {\n",
       "        vertical-align: top;\n",
       "    }\n",
       "\n",
       "    .dataframe thead th {\n",
       "        text-align: right;\n",
       "    }\n",
       "</style>\n",
       "<table border=\"1\" class=\"dataframe\">\n",
       "  <thead>\n",
       "    <tr style=\"text-align: right;\">\n",
       "      <th></th>\n",
       "      <th>inadimplente</th>\n",
       "      <th>salario_mensal</th>\n",
       "    </tr>\n",
       "  </thead>\n",
       "  <tbody>\n",
       "    <tr>\n",
       "      <th>73763</th>\n",
       "      <td>0</td>\n",
       "      <td>3,008,750.00</td>\n",
       "    </tr>\n",
       "    <tr>\n",
       "      <th>50640</th>\n",
       "      <td>0</td>\n",
       "      <td>1,072,500.00</td>\n",
       "    </tr>\n",
       "    <tr>\n",
       "      <th>93564</th>\n",
       "      <td>0</td>\n",
       "      <td>702,500.00</td>\n",
       "    </tr>\n",
       "    <tr>\n",
       "      <th>96549</th>\n",
       "      <td>0</td>\n",
       "      <td>699,530.00</td>\n",
       "    </tr>\n",
       "    <tr>\n",
       "      <th>37078</th>\n",
       "      <td>0</td>\n",
       "      <td>629,000.00</td>\n",
       "    </tr>\n",
       "    <tr>\n",
       "      <th>35973</th>\n",
       "      <td>0</td>\n",
       "      <td>582,369.00</td>\n",
       "    </tr>\n",
       "    <tr>\n",
       "      <th>88463</th>\n",
       "      <td>0</td>\n",
       "      <td>408,333.00</td>\n",
       "    </tr>\n",
       "    <tr>\n",
       "      <th>88223</th>\n",
       "      <td>0</td>\n",
       "      <td>324,000.00</td>\n",
       "    </tr>\n",
       "    <tr>\n",
       "      <th>106340</th>\n",
       "      <td>0</td>\n",
       "      <td>304,000.00</td>\n",
       "    </tr>\n",
       "    <tr>\n",
       "      <th>43344</th>\n",
       "      <td>0</td>\n",
       "      <td>287,662.00</td>\n",
       "    </tr>\n",
       "  </tbody>\n",
       "</table>\n",
       "</div>"
      ],
      "text/plain": [
       "        inadimplente  salario_mensal\n",
       "73763              0    3,008,750.00\n",
       "50640              0    1,072,500.00\n",
       "93564              0      702,500.00\n",
       "96549              0      699,530.00\n",
       "37078              0      629,000.00\n",
       "35973              0      582,369.00\n",
       "88463              0      408,333.00\n",
       "88223              0      324,000.00\n",
       "106340             0      304,000.00\n",
       "43344              0      287,662.00"
      ]
     },
     "execution_count": 32,
     "metadata": {},
     "output_type": "execute_result"
    }
   ],
   "source": [
    "check_df.sort_values('salario_mensal', ascending=False).head(10)[['inadimplente', 'salario_mensal']]"
   ]
  },
  {
   "cell_type": "markdown",
   "metadata": {},
   "source": [
    "Aqui podemos ver algumas coisas: o salário de 3 milhões é REALMENTE grande comparado ao resto, os 10 salários são bem maiores que a maioria dos $2\\%$ mais alto do conjunto e todos eles são **inadimplentes**."
   ]
  },
  {
   "cell_type": "markdown",
   "metadata": {},
   "source": [
    "Como tais dados possuem uma variação muito alta, não será feita a visualização do histograma, pois o intevalo de representação é gigantesco e a imensa maioria estaria no inicio da representação."
   ]
  },
  {
   "cell_type": "markdown",
   "metadata": {},
   "source": [
    "Além disso, com uma média de $6.637,41$ e um desvio padrão de $13.383,95$, uma grande quantidade de valores seriam considerados *outliers*, o que indica que algum tipo de tratamento **precisa** ser feito nestes dados. Isto será avaliado com cautela no Notebook sobre **Processamento dos Dados**"
   ]
  },
  {
   "cell_type": "markdown",
   "metadata": {},
   "source": [
    "## Variável: `numero_emprestimos_imobiliarios`\n",
    "\n",
    "Esta variável indica a quantidade de empréstimos imobiliários que o cliente possui em aberto."
   ]
  },
  {
   "cell_type": "markdown",
   "metadata": {},
   "source": [
    "### Valores `NaNs`"
   ]
  },
  {
   "cell_type": "code",
   "execution_count": 33,
   "metadata": {},
   "outputs": [
    {
     "name": "stdout",
     "output_type": "stream",
     "text": [
      "Verificando a coluna numero_emprestimos_imobiliarios\n",
      "Quantidade de valores nulos: 0 [0.00%]\n",
      "Quantidade de valores nulos (inadimplente): 0 [0.00%]\n",
      "Quantidade de valores nulos (não inadimplente): 0 [0.00%]\n"
     ]
    }
   ],
   "source": [
    "verifica_nans('numero_emprestimos_imobiliarios')"
   ]
  },
  {
   "cell_type": "markdown",
   "metadata": {},
   "source": [
    "Felizmente, esta coluna não possuí dados faltantes, então não precisamos nos preocupar com isso."
   ]
  },
  {
   "cell_type": "markdown",
   "metadata": {},
   "source": [
    "### Distribuição"
   ]
  },
  {
   "cell_type": "code",
   "execution_count": 34,
   "metadata": {},
   "outputs": [
    {
     "data": {
      "text/plain": [
       "count   110,000.00\n",
       "mean          1.02\n",
       "std           1.14\n",
       "min           0.00\n",
       "25%           0.00\n",
       "50%           1.00\n",
       "75%           2.00\n",
       "max          54.00\n",
       "Name: numero_emprestimos_imobiliarios, dtype: float64"
      ]
     },
     "execution_count": 34,
     "metadata": {},
     "output_type": "execute_result"
    }
   ],
   "source": [
    "df['numero_emprestimos_imobiliarios'].describe()"
   ]
  },
  {
   "cell_type": "markdown",
   "metadata": {},
   "source": [
    "Outra distribuição que possui a grande maioria dos dados com valores pequenos. Mas ao contrário da distribuição do `salario_mensal`, o valor máximo não é tão discrepante em comparação ao resto. Veremos como é feita a distribuição dividindo por **inadimplente** e **não inadimplente**."
   ]
  },
  {
   "cell_type": "code",
   "execution_count": 35,
   "metadata": {},
   "outputs": [
    {
     "data": {
      "text/html": [
       "<div>\n",
       "<style scoped>\n",
       "    .dataframe tbody tr th:only-of-type {\n",
       "        vertical-align: middle;\n",
       "    }\n",
       "\n",
       "    .dataframe tbody tr th {\n",
       "        vertical-align: top;\n",
       "    }\n",
       "\n",
       "    .dataframe thead th {\n",
       "        text-align: right;\n",
       "    }\n",
       "</style>\n",
       "<table border=\"1\" class=\"dataframe\">\n",
       "  <thead>\n",
       "    <tr style=\"text-align: right;\">\n",
       "      <th></th>\n",
       "      <th>count</th>\n",
       "      <th>mean</th>\n",
       "      <th>std</th>\n",
       "      <th>min</th>\n",
       "      <th>25%</th>\n",
       "      <th>50%</th>\n",
       "      <th>75%</th>\n",
       "      <th>max</th>\n",
       "    </tr>\n",
       "    <tr>\n",
       "      <th>inadimplente</th>\n",
       "      <th></th>\n",
       "      <th></th>\n",
       "      <th></th>\n",
       "      <th></th>\n",
       "      <th></th>\n",
       "      <th></th>\n",
       "      <th></th>\n",
       "      <th></th>\n",
       "    </tr>\n",
       "  </thead>\n",
       "  <tbody>\n",
       "    <tr>\n",
       "      <th>0</th>\n",
       "      <td>102,669.00</td>\n",
       "      <td>1.02</td>\n",
       "      <td>1.11</td>\n",
       "      <td>0.00</td>\n",
       "      <td>0.00</td>\n",
       "      <td>1.00</td>\n",
       "      <td>2.00</td>\n",
       "      <td>54.00</td>\n",
       "    </tr>\n",
       "    <tr>\n",
       "      <th>1</th>\n",
       "      <td>7,331.00</td>\n",
       "      <td>0.99</td>\n",
       "      <td>1.47</td>\n",
       "      <td>0.00</td>\n",
       "      <td>0.00</td>\n",
       "      <td>1.00</td>\n",
       "      <td>2.00</td>\n",
       "      <td>29.00</td>\n",
       "    </tr>\n",
       "  </tbody>\n",
       "</table>\n",
       "</div>"
      ],
      "text/plain": [
       "                  count  mean  std  min  25%  50%  75%   max\n",
       "inadimplente                                                \n",
       "0            102,669.00  1.02 1.11 0.00 0.00 1.00 2.00 54.00\n",
       "1              7,331.00  0.99 1.47 0.00 0.00 1.00 2.00 29.00"
      ]
     },
     "execution_count": 35,
     "metadata": {},
     "output_type": "execute_result"
    }
   ],
   "source": [
    "df.groupby('inadimplente')['numero_emprestimos_imobiliarios'].describe()"
   ]
  },
  {
   "cell_type": "markdown",
   "metadata": {},
   "source": [
    "A média e o desvio padrão segue bem próximos em ambos os casos. Uma diferença é o valor máximo encontrado ser maior em **não inadimplente**. Veremos como os dados são distribuidos a cima do terceiro quartil."
   ]
  },
  {
   "cell_type": "code",
   "execution_count": 36,
   "metadata": {},
   "outputs": [
    {
     "data": {
      "text/plain": [
       "count   24,054.00\n",
       "mean         2.57\n",
       "std          0.83\n",
       "min          2.00\n",
       "25%          2.00\n",
       "50%          2.00\n",
       "75%          3.00\n",
       "max         20.00\n",
       "Name: numero_de_dependentes, dtype: float64"
      ]
     },
     "execution_count": 36,
     "metadata": {},
     "output_type": "execute_result"
    }
   ],
   "source": [
    "q3 = df['numero_de_dependentes'].quantile(.75)\n",
    "\n",
    "check_df = df[df['numero_de_dependentes'] > q3]\n",
    "check_df['numero_de_dependentes'].describe()"
   ]
  },
  {
   "cell_type": "markdown",
   "metadata": {},
   "source": [
    "Analisando esta parte dos dados, podemos ver que a grande maioria dos dados variam entre 0 e 3, onde os valores altos são encontrados apenas em uma parte bem superior do dataset. Vamos verificar a quantidade de cada valor, para ver quais são encontrados."
   ]
  },
  {
   "cell_type": "code",
   "execution_count": 37,
   "metadata": {},
   "outputs": [
    {
     "data": {
      "text/plain": [
       "0     41159\n",
       "1     38354\n",
       "2     23161\n",
       "3      4644\n",
       "4      1601\n",
       "5       496\n",
       "6       237\n",
       "7       126\n",
       "8        67\n",
       "9        58\n",
       "10       29\n",
       "11       15\n",
       "13       13\n",
       "12       10\n",
       "14        6\n",
       "15        5\n",
       "17        4\n",
       "16        3\n",
       "23        2\n",
       "25        2\n",
       "32        1\n",
       "18        1\n",
       "19        1\n",
       "20        1\n",
       "21        1\n",
       "26        1\n",
       "29        1\n",
       "54        1\n",
       "Name: numero_emprestimos_imobiliarios, dtype: int64"
      ]
     },
     "execution_count": 37,
     "metadata": {},
     "output_type": "execute_result"
    }
   ],
   "source": [
    "df['numero_emprestimos_imobiliarios'].value_counts()"
   ]
  },
  {
   "cell_type": "markdown",
   "metadata": {},
   "source": [
    "A partir de 4 empréstimos, a quantidade já fica bem escassa. Neste caso, a separação dos dados em certos grupos pode vir a ser uma boa possibilidade."
   ]
  },
  {
   "cell_type": "markdown",
   "metadata": {},
   "source": [
    "E como os dados não possuem uma variação tão grande, podemos verificar seu histograma com facilidade."
   ]
  },
  {
   "cell_type": "code",
   "execution_count": 38,
   "metadata": {},
   "outputs": [
    {
     "data": {
      "image/png": "[encoded data removed]",
      "text/plain": [
       "<Figure size 1080x720 with 1 Axes>"
      ]
     },
     "metadata": {},
     "output_type": "display_data"
    }
   ],
   "source": [
    "sns.histplot(data=df, x='numero_emprestimos_imobiliarios', hue='inadimplente', bins=55, \n",
    "             stat='probability', common_norm=False)\n",
    "\n",
    "plt.title('Histograma do Número de Emprestimos Imobiliários')\n",
    "plt.xlabel('Número de Emprestimos Imobiliários')\n",
    "plt.ylabel('Porcentagem')\n",
    "plt.show()"
   ]
  },
  {
   "cell_type": "markdown",
   "metadata": {},
   "source": [
    "O histograma só serviu pra visualizar o que já foi dito anteriormente. A esmagadora maioria dos dados possuem 3 ou menos empréstimos imobiliários."
   ]
  },
  {
   "cell_type": "markdown",
   "metadata": {},
   "source": [
    "### *Outliers*\n",
    "\n",
    "Chegando novamente na avaliação dos *outliers*, estes dados possuem um comportamento parecido com a variavel `numero_de_dependentes`, sendo a sua grande maioria parada na esquerda do gráfico. Sendo assim, todos os valores \"um pouco\" altos serão considerados outliers, o que pode ser ruim simplesmente retira-los pois a distribuição não é tão próxima da \"normal\"."
   ]
  },
  {
   "cell_type": "code",
   "execution_count": 39,
   "metadata": {},
   "outputs": [
    {
     "name": "stdout",
     "output_type": "stream",
     "text": [
      "Quantidade de outliers (Z-Score): 1081\n"
     ]
    }
   ],
   "source": [
    "outliers = df[(np.abs(stats.zscore(df['numero_emprestimos_imobiliarios'])) > 3)]\n",
    "\n",
    "print('Quantidade de outliers (Z-Score):', outliers.shape[0])"
   ]
  },
  {
   "cell_type": "markdown",
   "metadata": {},
   "source": [
    "Esta coluna acaba possuindo uma grande quantidade de outliers utilizando o método de *Z-Score* maior que 3. Veremos como estão distribuidos esses *outliers* em **inadimplente** e **não inadimplente**."
   ]
  },
  {
   "cell_type": "code",
   "execution_count": 40,
   "metadata": {},
   "outputs": [
    {
     "data": {
      "text/plain": [
       "0    918\n",
       "1    163\n",
       "Name: inadimplente, dtype: int64"
      ]
     },
     "execution_count": 40,
     "metadata": {},
     "output_type": "execute_result"
    }
   ],
   "source": [
    "outliers['inadimplente'].value_counts()"
   ]
  },
  {
   "cell_type": "markdown",
   "metadata": {},
   "source": [
    "Como explicado anteriormente, a quantidade de **inadimplentes** é bem menor que a quantidade de **não inadimplentes** mas em um conjunto tão desbalanceado e com poucos dados positivos, talvez seja necessário trabalhar com um processamento desta informação do que simplesmente retira-la do dataset."
   ]
  },
  {
   "cell_type": "markdown",
   "metadata": {},
   "source": [
    "Com esta informação em mente, não veremos a quantidade de *outliers* utilizando o método de IQR, pois é desnecessário."
   ]
  },
  {
   "cell_type": "markdown",
   "metadata": {},
   "source": [
    "## Variável: `numero_vezes_passou_90_dias`\n",
    "\n",
    "Esta variável indica o número de vezes que o tomador passou mais de 90 dias em atraso."
   ]
  },
  {
   "cell_type": "markdown",
   "metadata": {},
   "source": [
    "### Valores `NaNs`"
   ]
  },
  {
   "cell_type": "code",
   "execution_count": 41,
   "metadata": {},
   "outputs": [
    {
     "name": "stdout",
     "output_type": "stream",
     "text": [
      "Verificando a coluna numero_vezes_passou_90_dias\n",
      "Quantidade de valores nulos: 0 [0.00%]\n",
      "Quantidade de valores nulos (inadimplente): 0 [0.00%]\n",
      "Quantidade de valores nulos (não inadimplente): 0 [0.00%]\n"
     ]
    }
   ],
   "source": [
    "verifica_nans('numero_vezes_passou_90_dias')"
   ]
  },
  {
   "cell_type": "markdown",
   "metadata": {},
   "source": [
    "Novamente, mais uma coluna sem dados nulos. Podemos seguir para análise da sua distribuição."
   ]
  },
  {
   "cell_type": "markdown",
   "metadata": {},
   "source": [
    "### Distribuição"
   ]
  },
  {
   "cell_type": "code",
   "execution_count": 42,
   "metadata": {},
   "outputs": [
    {
     "data": {
      "text/plain": [
       "count   110,000.00\n",
       "mean          0.27\n",
       "std           4.22\n",
       "min           0.00\n",
       "25%           0.00\n",
       "50%           0.00\n",
       "75%           0.00\n",
       "max          98.00\n",
       "Name: numero_vezes_passou_90_dias, dtype: float64"
      ]
     },
     "execution_count": 42,
     "metadata": {},
     "output_type": "execute_result"
    }
   ],
   "source": [
    "df['numero_vezes_passou_90_dias'].describe()"
   ]
  },
  {
   "cell_type": "markdown",
   "metadata": {},
   "source": [
    "Essa distribuição parece seguir a mesma lógica das colunas anteriores, estando sua grande maioria para \"esquerda\", mas de uma maneira mais expressiva, pois pelo menos $3/4$ dos dados são totalmente zerados. Vamos ver se este comportamento segue vendo os dados divididos em **inadimplentes** e **não inadimplentes**."
   ]
  },
  {
   "cell_type": "code",
   "execution_count": 43,
   "metadata": {},
   "outputs": [
    {
     "data": {
      "text/html": [
       "<div>\n",
       "<style scoped>\n",
       "    .dataframe tbody tr th:only-of-type {\n",
       "        vertical-align: middle;\n",
       "    }\n",
       "\n",
       "    .dataframe tbody tr th {\n",
       "        vertical-align: top;\n",
       "    }\n",
       "\n",
       "    .dataframe thead th {\n",
       "        text-align: right;\n",
       "    }\n",
       "</style>\n",
       "<table border=\"1\" class=\"dataframe\">\n",
       "  <thead>\n",
       "    <tr style=\"text-align: right;\">\n",
       "      <th></th>\n",
       "      <th>count</th>\n",
       "      <th>mean</th>\n",
       "      <th>std</th>\n",
       "      <th>min</th>\n",
       "      <th>25%</th>\n",
       "      <th>50%</th>\n",
       "      <th>75%</th>\n",
       "      <th>max</th>\n",
       "    </tr>\n",
       "    <tr>\n",
       "      <th>inadimplente</th>\n",
       "      <th></th>\n",
       "      <th></th>\n",
       "      <th></th>\n",
       "      <th></th>\n",
       "      <th></th>\n",
       "      <th></th>\n",
       "      <th></th>\n",
       "      <th></th>\n",
       "    </tr>\n",
       "  </thead>\n",
       "  <tbody>\n",
       "    <tr>\n",
       "      <th>0</th>\n",
       "      <td>102,669.00</td>\n",
       "      <td>0.14</td>\n",
       "      <td>2.97</td>\n",
       "      <td>0.00</td>\n",
       "      <td>0.00</td>\n",
       "      <td>0.00</td>\n",
       "      <td>0.00</td>\n",
       "      <td>98.00</td>\n",
       "    </tr>\n",
       "    <tr>\n",
       "      <th>1</th>\n",
       "      <td>7,331.00</td>\n",
       "      <td>2.10</td>\n",
       "      <td>11.84</td>\n",
       "      <td>0.00</td>\n",
       "      <td>0.00</td>\n",
       "      <td>0.00</td>\n",
       "      <td>1.00</td>\n",
       "      <td>98.00</td>\n",
       "    </tr>\n",
       "  </tbody>\n",
       "</table>\n",
       "</div>"
      ],
      "text/plain": [
       "                  count  mean   std  min  25%  50%  75%   max\n",
       "inadimplente                                                 \n",
       "0            102,669.00  0.14  2.97 0.00 0.00 0.00 0.00 98.00\n",
       "1              7,331.00  2.10 11.84 0.00 0.00 0.00 1.00 98.00"
      ]
     },
     "execution_count": 43,
     "metadata": {},
     "output_type": "execute_result"
    }
   ],
   "source": [
    "df.groupby('inadimplente')['numero_vezes_passou_90_dias'].describe()"
   ]
  },
  {
   "cell_type": "markdown",
   "metadata": {},
   "source": [
    "Aqui ocorreu uma diferença entre as outras colunas, os 2 grupos possuem o mesmo valor máximo. Além disso, podemos ver que os **inadimplentes** começam a ter valores maior que zero **ANTES** dos **não inadimplentes**. Avaliando desta maneira, este pode ser um indicação se é ou não **inadimplente**, mas só saberemos isso com maior certeza na etapa de avaliação dos modelos."
   ]
  },
  {
   "cell_type": "markdown",
   "metadata": {},
   "source": [
    "Para ter uma melhor noção deste conjunto, vamos avaliar novamente o topo do conjunto para ver como se varia."
   ]
  },
  {
   "cell_type": "code",
   "execution_count": 44,
   "metadata": {},
   "outputs": [
    {
     "data": {
      "text/plain": [
       "count   6,164.00\n",
       "mean        4.82\n",
       "std        17.19\n",
       "min         1.00\n",
       "25%         1.00\n",
       "50%         1.00\n",
       "75%         2.00\n",
       "max        98.00\n",
       "Name: numero_vezes_passou_90_dias, dtype: float64"
      ]
     },
     "execution_count": 44,
     "metadata": {},
     "output_type": "execute_result"
    }
   ],
   "source": [
    "q3 = df['numero_vezes_passou_90_dias'].quantile(.75)\n",
    "\n",
    "check_df = df[df['numero_vezes_passou_90_dias'] > q3]\n",
    "check_df['numero_vezes_passou_90_dias'].describe()"
   ]
  },
  {
   "cell_type": "markdown",
   "metadata": {},
   "source": [
    "Boa parte dos dados é Zero, como vimos pela distribuição geral... mas mesmo pegando o terceiro quartial, a variação segue sendo bem pequena, onde a grande maioria não passa do valor 2."
   ]
  },
  {
   "cell_type": "markdown",
   "metadata": {},
   "source": [
    "Para não haver dúvidas, vamos avaliar a quantidade de cada um dos valores encontrados."
   ]
  },
  {
   "cell_type": "code",
   "execution_count": 45,
   "metadata": {},
   "outputs": [
    {
     "data": {
      "text/plain": [
       "0     103836\n",
       "1       3886\n",
       "2       1160\n",
       "3        486\n",
       "4        204\n",
       "98       198\n",
       "5        103\n",
       "6         58\n",
       "7         21\n",
       "8         16\n",
       "9         15\n",
       "10         6\n",
       "96         4\n",
       "11         2\n",
       "13         2\n",
       "14         1\n",
       "15         1\n",
       "17         1\n",
       "Name: numero_vezes_passou_90_dias, dtype: int64"
      ]
     },
     "execution_count": 45,
     "metadata": {},
     "output_type": "execute_result"
    }
   ],
   "source": [
    "df['numero_vezes_passou_90_dias'].value_counts()"
   ]
  },
  {
   "cell_type": "markdown",
   "metadata": {},
   "source": [
    "Quase todos os registros estão com valor zero e o restante tem a sua maioria com valores 1 e 2. Como a distribuição dos valores em **inadimplentes** era um pouco diferente, vejamos como é a quantidade dos valores apenas nesse grupo."
   ]
  },
  {
   "cell_type": "code",
   "execution_count": 46,
   "metadata": {},
   "outputs": [
    {
     "data": {
      "text/plain": [
       "0     4801\n",
       "1     1304\n",
       "2      552\n",
       "3      273\n",
       "4      145\n",
       "98     105\n",
       "5       66\n",
       "6       34\n",
       "7       18\n",
       "9       12\n",
       "8       12\n",
       "96       4\n",
       "10       3\n",
       "11       1\n",
       "17       1\n",
       "Name: numero_vezes_passou_90_dias, dtype: int64"
      ]
     },
     "execution_count": 46,
     "metadata": {},
     "output_type": "execute_result"
    }
   ],
   "source": [
    "df.query(\"inadimplente == 1\")['numero_vezes_passou_90_dias'].value_counts()"
   ]
  },
  {
   "cell_type": "markdown",
   "metadata": {},
   "source": [
    "Como **inadimplente** possui um valor bem menor que os **não inadimplentes**, esta indicação de ter um valor maior que zero parece ser uma indicação interessante. Será visto com mais cautela durante a etapa de **Processamento de Dados**."
   ]
  },
  {
   "cell_type": "markdown",
   "metadata": {},
   "source": [
    "Para se ter uma visão melhor desta distribuição, podemos verificar o seu histograma."
   ]
  },
  {
   "cell_type": "code",
   "execution_count": 47,
   "metadata": {},
   "outputs": [
    {
     "data": {
      "image/png": "[encoded data removed]",
      "text/plain": [
       "<Figure size 1080x720 with 1 Axes>"
      ]
     },
     "metadata": {},
     "output_type": "display_data"
    }
   ],
   "source": [
    "sns.histplot(data=df, x='numero_vezes_passou_90_dias', hue='inadimplente', bins=99, \n",
    "             stat='probability', common_norm=False)\n",
    "\n",
    "plt.title('Histograma do Número de vezes que passou de 90 dias')\n",
    "plt.xlabel('Número de vezes que passou de 90 dias')\n",
    "plt.ylabel('Porcentagem')\n",
    "plt.show()"
   ]
  },
  {
   "cell_type": "markdown",
   "metadata": {},
   "source": [
    "Como visto anteriormente, quando os valores são diferentes de 0, a maioria deles acaba se tornando **inadimplentes**. Esta é uma informação valiosa e podemos usar ao nosso favor para tentar resolver o problema de predição. "
   ]
  },
  {
   "cell_type": "markdown",
   "metadata": {},
   "source": [
    "E como estes dados estão em sua esmagadora maioria a esquerda do gráfico, não iremos avaliar os *outliers*, pois quase todos os valores diferentes de zero serão considerados (e por quê a distribuição não se assemelha a normal)."
   ]
  },
  {
   "cell_type": "markdown",
   "metadata": {},
   "source": [
    "## Variável: `util_linhas_inseguras`\n",
    "\n",
    "Esta variável indica quanto que o cliente está usando, relativamente ao limite dele, de linhas de crédito que não são seguradas por qualquer bem do tomador e.g: imoveis, carros etc"
   ]
  },
  {
   "cell_type": "markdown",
   "metadata": {},
   "source": [
    "### Valores `NaNs`"
   ]
  },
  {
   "cell_type": "code",
   "execution_count": 48,
   "metadata": {},
   "outputs": [
    {
     "name": "stdout",
     "output_type": "stream",
     "text": [
      "Verificando a coluna util_linhas_inseguras\n",
      "Quantidade de valores nulos: 0 [0.00%]\n",
      "Quantidade de valores nulos (inadimplente): 0 [0.00%]\n",
      "Quantidade de valores nulos (não inadimplente): 0 [0.00%]\n"
     ]
    }
   ],
   "source": [
    "verifica_nans('util_linhas_inseguras')"
   ]
  },
  {
   "cell_type": "markdown",
   "metadata": {},
   "source": [
    "Novamente, nenhum valor nulo. Podemos seguir para próxima seção."
   ]
  },
  {
   "cell_type": "markdown",
   "metadata": {},
   "source": [
    "### Distribuição"
   ]
  },
  {
   "cell_type": "code",
   "execution_count": 49,
   "metadata": {},
   "outputs": [
    {
     "data": {
      "text/plain": [
       "count   110,000.00\n",
       "mean          5.93\n",
       "std         252.30\n",
       "min           0.00\n",
       "25%           0.03\n",
       "50%           0.16\n",
       "75%           0.56\n",
       "max      50,708.00\n",
       "Name: util_linhas_inseguras, dtype: float64"
      ]
     },
     "execution_count": 49,
     "metadata": {},
     "output_type": "execute_result"
    }
   ],
   "source": [
    "df['util_linhas_inseguras'].describe()"
   ]
  },
  {
   "cell_type": "markdown",
   "metadata": {},
   "source": [
    "Esta distribuição segue um comportamento parecido com as anteriores que tinham a grande quantidade dos valores em zero. A diferença neste exemplo é que possui valores em formato `float` e por isso, possui números com vírgula. Analisando sua distribuição, $75\\%$ dos dados possuem valores entre $[0;0.56]$ mas o que chama a atenção é o valor de $50708$, pois é muito maior que o restante. Como feito anteriormente, será verificado a distribuição dos valores em **inadimplente** e **não inadimplente**."
   ]
  },
  {
   "cell_type": "code",
   "execution_count": 50,
   "metadata": {},
   "outputs": [
    {
     "data": {
      "text/html": [
       "<div>\n",
       "<style scoped>\n",
       "    .dataframe tbody tr th:only-of-type {\n",
       "        vertical-align: middle;\n",
       "    }\n",
       "\n",
       "    .dataframe tbody tr th {\n",
       "        vertical-align: top;\n",
       "    }\n",
       "\n",
       "    .dataframe thead th {\n",
       "        text-align: right;\n",
       "    }\n",
       "</style>\n",
       "<table border=\"1\" class=\"dataframe\">\n",
       "  <thead>\n",
       "    <tr style=\"text-align: right;\">\n",
       "      <th></th>\n",
       "      <th>count</th>\n",
       "      <th>mean</th>\n",
       "      <th>std</th>\n",
       "      <th>min</th>\n",
       "      <th>25%</th>\n",
       "      <th>50%</th>\n",
       "      <th>75%</th>\n",
       "      <th>max</th>\n",
       "    </tr>\n",
       "    <tr>\n",
       "      <th>inadimplente</th>\n",
       "      <th></th>\n",
       "      <th></th>\n",
       "      <th></th>\n",
       "      <th></th>\n",
       "      <th></th>\n",
       "      <th></th>\n",
       "      <th></th>\n",
       "      <th></th>\n",
       "    </tr>\n",
       "  </thead>\n",
       "  <tbody>\n",
       "    <tr>\n",
       "      <th>0</th>\n",
       "      <td>102,669.00</td>\n",
       "      <td>6.15</td>\n",
       "      <td>260.30</td>\n",
       "      <td>0.00</td>\n",
       "      <td>0.03</td>\n",
       "      <td>0.13</td>\n",
       "      <td>0.49</td>\n",
       "      <td>50,708.00</td>\n",
       "    </tr>\n",
       "    <tr>\n",
       "      <th>1</th>\n",
       "      <td>7,331.00</td>\n",
       "      <td>2.85</td>\n",
       "      <td>78.74</td>\n",
       "      <td>0.00</td>\n",
       "      <td>0.40</td>\n",
       "      <td>0.84</td>\n",
       "      <td>1.00</td>\n",
       "      <td>3,629.00</td>\n",
       "    </tr>\n",
       "  </tbody>\n",
       "</table>\n",
       "</div>"
      ],
      "text/plain": [
       "                  count  mean    std  min  25%  50%  75%       max\n",
       "inadimplente                                                      \n",
       "0            102,669.00  6.15 260.30 0.00 0.03 0.13 0.49 50,708.00\n",
       "1              7,331.00  2.85  78.74 0.00 0.40 0.84 1.00  3,629.00"
      ]
     },
     "execution_count": 50,
     "metadata": {},
     "output_type": "execute_result"
    }
   ],
   "source": [
    "df.groupby('inadimplente')['util_linhas_inseguras'].describe()"
   ]
  },
  {
   "cell_type": "markdown",
   "metadata": {},
   "source": [
    "Analisando as duas distribuições, parece que a maioria dos dados transitam entre os valores de 0 e 1. Mas como podemos ver, existe valor muito a cima deste intervalo, e por isso, precisamos verificar se isso é proposital ou pode ser algum erro nos dados. Para isso, veremos quantos dados possuem valor **MAIOR** que 1."
   ]
  },
  {
   "cell_type": "code",
   "execution_count": 51,
   "metadata": {},
   "outputs": [
    {
     "data": {
      "text/plain": [
       "count    2,452.00\n",
       "mean       252.65\n",
       "std      1,671.69\n",
       "min          1.00\n",
       "25%          1.02\n",
       "50%          1.07\n",
       "75%          1.30\n",
       "max     50,708.00\n",
       "Name: util_linhas_inseguras, dtype: float64"
      ]
     },
     "execution_count": 51,
     "metadata": {},
     "output_type": "execute_result"
    }
   ],
   "source": [
    "df[df['util_linhas_inseguras'] > 1.0]['util_linhas_inseguras'].describe()"
   ]
  },
  {
   "cell_type": "markdown",
   "metadata": {},
   "source": [
    "Existem $2452$ valores a cima de 1,0 na coluna, e avaliando sua distribuição, $75\\%$ deste conjunto não passa de 1,3. Vamos verificar a quantidade de **inadimplentes** e **não inadimplentes** neste grupo de valores."
   ]
  },
  {
   "cell_type": "code",
   "execution_count": 52,
   "metadata": {},
   "outputs": [
    {
     "data": {
      "text/plain": [
       "0    1555\n",
       "1     897\n",
       "Name: inadimplente, dtype: int64"
      ]
     },
     "execution_count": 52,
     "metadata": {},
     "output_type": "execute_result"
    }
   ],
   "source": [
    "df[df['util_linhas_inseguras'] > 1.0]['inadimplente'].value_counts()"
   ]
  },
  {
   "cell_type": "markdown",
   "metadata": {},
   "source": [
    "Um pouco mais de $1/3$ dos dados são de **inadimplentes**, o que indica que tais dados tem um certo valor."
   ]
  },
  {
   "cell_type": "markdown",
   "metadata": {},
   "source": [
    "Para se ter uma maior certeza dessa distribuição, vamos avaliar os que possuem valores maior que 2."
   ]
  },
  {
   "cell_type": "code",
   "execution_count": 53,
   "metadata": {},
   "outputs": [
    {
     "data": {
      "text/plain": [
       "count      272.00\n",
       "mean     2,268.43\n",
       "std      4,548.36\n",
       "min          2.00\n",
       "25%          3.51\n",
       "50%        833.50\n",
       "75%      2,921.00\n",
       "max     50,708.00\n",
       "Name: util_linhas_inseguras, dtype: float64"
      ]
     },
     "execution_count": 53,
     "metadata": {},
     "output_type": "execute_result"
    }
   ],
   "source": [
    "df[df['util_linhas_inseguras'] > 2.0]['util_linhas_inseguras'].describe()"
   ]
  },
  {
   "cell_type": "markdown",
   "metadata": {},
   "source": [
    "Apenas 272 valores são maiores que 2 nesta coluna e os dados começam a variar bastante neste pequeno intervalo. Uma possível \"solução\" para este conjunto seria limitar os valores, onde tudo acima de 2 se \"transforma\" em 2. Assim não teremos com *outliers*."
   ]
  },
  {
   "cell_type": "markdown",
   "metadata": {},
   "source": [
    "E como os dados originais possuem uma grande variação, nem precisamos verificar a quantidade de *outliers*, pois não ganhariamos nenhuma informação interessante."
   ]
  },
  {
   "cell_type": "markdown",
   "metadata": {},
   "source": [
    "## Variável: `vezes_passou_de_30_59_dias`\n",
    "\n",
    "Esta variável indica o número de vezes que o cliente atrasou, entre 30 e 59 dias, o pagamento de um empréstimo. Ela tem o mesmo propósito da variável `numero_vezes_passou_90_dias`, mas usando outro intevalo de tempo."
   ]
  },
  {
   "cell_type": "markdown",
   "metadata": {},
   "source": [
    "### Valores `NaNs`"
   ]
  },
  {
   "cell_type": "code",
   "execution_count": 54,
   "metadata": {},
   "outputs": [
    {
     "name": "stdout",
     "output_type": "stream",
     "text": [
      "Verificando a coluna vezes_passou_de_30_59_dias\n",
      "Quantidade de valores nulos: 0 [0.00%]\n",
      "Quantidade de valores nulos (inadimplente): 0 [0.00%]\n",
      "Quantidade de valores nulos (não inadimplente): 0 [0.00%]\n"
     ]
    }
   ],
   "source": [
    "verifica_nans('vezes_passou_de_30_59_dias')"
   ]
  },
  {
   "cell_type": "markdown",
   "metadata": {},
   "source": [
    "Outra variável sem valores nulos."
   ]
  },
  {
   "cell_type": "markdown",
   "metadata": {},
   "source": [
    "### Distribuição"
   ]
  },
  {
   "cell_type": "code",
   "execution_count": 55,
   "metadata": {},
   "outputs": [
    {
     "data": {
      "text/plain": [
       "count   110,000.00\n",
       "mean          0.42\n",
       "std           4.24\n",
       "min           0.00\n",
       "25%           0.00\n",
       "50%           0.00\n",
       "75%           0.00\n",
       "max          98.00\n",
       "Name: vezes_passou_de_30_59_dias, dtype: float64"
      ]
     },
     "execution_count": 55,
     "metadata": {},
     "output_type": "execute_result"
    }
   ],
   "source": [
    "df['vezes_passou_de_30_59_dias'].describe()"
   ]
  },
  {
   "cell_type": "markdown",
   "metadata": {},
   "source": [
    "Como esta variável possui a mesma indicação de `numero_vezes_passou_90_dias` (apenas mudando o intervalo de tempo), ela possui uma distribuição bem parecida, mas esperado que tenha mais (ou a mesma quantidade) de valores maiores que zero, já que se trata de um intervalo que ocorre **ANTES** dos 90 dias. Veremos como a distribuição se comporta entre os grupos de **inadimplentes** e **não inadimplentes**."
   ]
  },
  {
   "cell_type": "code",
   "execution_count": 56,
   "metadata": {},
   "outputs": [
    {
     "data": {
      "text/html": [
       "<div>\n",
       "<style scoped>\n",
       "    .dataframe tbody tr th:only-of-type {\n",
       "        vertical-align: middle;\n",
       "    }\n",
       "\n",
       "    .dataframe tbody tr th {\n",
       "        vertical-align: top;\n",
       "    }\n",
       "\n",
       "    .dataframe thead th {\n",
       "        text-align: right;\n",
       "    }\n",
       "</style>\n",
       "<table border=\"1\" class=\"dataframe\">\n",
       "  <thead>\n",
       "    <tr style=\"text-align: right;\">\n",
       "      <th></th>\n",
       "      <th>count</th>\n",
       "      <th>mean</th>\n",
       "      <th>std</th>\n",
       "      <th>min</th>\n",
       "      <th>25%</th>\n",
       "      <th>50%</th>\n",
       "      <th>75%</th>\n",
       "      <th>max</th>\n",
       "    </tr>\n",
       "    <tr>\n",
       "      <th>inadimplente</th>\n",
       "      <th></th>\n",
       "      <th></th>\n",
       "      <th></th>\n",
       "      <th></th>\n",
       "      <th></th>\n",
       "      <th></th>\n",
       "      <th></th>\n",
       "      <th></th>\n",
       "    </tr>\n",
       "  </thead>\n",
       "  <tbody>\n",
       "    <tr>\n",
       "      <th>0</th>\n",
       "      <td>102,669.00</td>\n",
       "      <td>0.28</td>\n",
       "      <td>3.00</td>\n",
       "      <td>0.00</td>\n",
       "      <td>0.00</td>\n",
       "      <td>0.00</td>\n",
       "      <td>0.00</td>\n",
       "      <td>98.00</td>\n",
       "    </tr>\n",
       "    <tr>\n",
       "      <th>1</th>\n",
       "      <td>7,331.00</td>\n",
       "      <td>2.40</td>\n",
       "      <td>11.81</td>\n",
       "      <td>0.00</td>\n",
       "      <td>0.00</td>\n",
       "      <td>0.00</td>\n",
       "      <td>2.00</td>\n",
       "      <td>98.00</td>\n",
       "    </tr>\n",
       "  </tbody>\n",
       "</table>\n",
       "</div>"
      ],
      "text/plain": [
       "                  count  mean   std  min  25%  50%  75%   max\n",
       "inadimplente                                                 \n",
       "0            102,669.00  0.28  3.00 0.00 0.00 0.00 0.00 98.00\n",
       "1              7,331.00  2.40 11.81 0.00 0.00 0.00 2.00 98.00"
      ]
     },
     "execution_count": 56,
     "metadata": {},
     "output_type": "execute_result"
    }
   ],
   "source": [
    "df.groupby('inadimplente')['vezes_passou_de_30_59_dias'].describe()"
   ]
  },
  {
   "cell_type": "markdown",
   "metadata": {},
   "source": [
    "Aqui já podemos ver uma diferença ao intervalo de 90 dias, pois o terceiro quartil já começa a ter valores a partir de 2 (enquanto no de 90 dias era de 1). Veremos como os dados são visualizados através do Histograma."
   ]
  },
  {
   "cell_type": "code",
   "execution_count": 57,
   "metadata": {},
   "outputs": [
    {
     "data": {
      "image/png": "[encoded data removed]",
      "text/plain": [
       "<Figure size 1080x720 with 1 Axes>"
      ]
     },
     "metadata": {},
     "output_type": "display_data"
    }
   ],
   "source": [
    "sns.histplot(data=df, x='vezes_passou_de_30_59_dias', hue='inadimplente', bins=99, \n",
    "             stat='probability', common_norm=False)\n",
    "\n",
    "plt.title('Histograma do número de vezes que estava no intervalo de 30 a 59 dias')\n",
    "plt.xlabel('Número de vezes que estava no intervalo de 30 a 59 dias')\n",
    "plt.ylabel('Porcentagem')\n",
    "plt.show()"
   ]
  },
  {
   "cell_type": "markdown",
   "metadata": {},
   "source": [
    "Novamente, em comparação aos 90 dias, a partir do valor 1, a quantidade de **inadimplentes** passam os **não inadimplentes**, o que reforça mais ainda que esta pode ser uma variável com bastante potencial para fazer a divisão dos exemplos positivos dos negativos."
   ]
  },
  {
   "cell_type": "markdown",
   "metadata": {},
   "source": [
    "## Variável: `razao_debito`\n",
    "\n",
    "Esta variável indica a razão entre as dívidas e o patrimônio do tomador."
   ]
  },
  {
   "cell_type": "markdown",
   "metadata": {},
   "source": [
    "### Valores `NaNs`"
   ]
  },
  {
   "cell_type": "code",
   "execution_count": 58,
   "metadata": {},
   "outputs": [
    {
     "name": "stdout",
     "output_type": "stream",
     "text": [
      "Verificando a coluna razao_debito\n",
      "Quantidade de valores nulos: 0 [0.00%]\n",
      "Quantidade de valores nulos (inadimplente): 0 [0.00%]\n",
      "Quantidade de valores nulos (não inadimplente): 0 [0.00%]\n"
     ]
    }
   ],
   "source": [
    "verifica_nans('razao_debito')"
   ]
  },
  {
   "cell_type": "markdown",
   "metadata": {},
   "source": [
    "Outra coluna sem valores nulos."
   ]
  },
  {
   "cell_type": "markdown",
   "metadata": {},
   "source": [
    "### Distribuição"
   ]
  },
  {
   "cell_type": "code",
   "execution_count": 59,
   "metadata": {},
   "outputs": [
    {
     "data": {
      "text/plain": [
       "count   110,000.00\n",
       "mean        354.82\n",
       "std       2,074.14\n",
       "min           0.00\n",
       "25%           0.18\n",
       "50%           0.37\n",
       "75%           0.87\n",
       "max     329,664.00\n",
       "Name: razao_debito, dtype: float64"
      ]
     },
     "execution_count": 59,
     "metadata": {},
     "output_type": "execute_result"
    }
   ],
   "source": [
    "df['razao_debito'].describe()"
   ]
  },
  {
   "cell_type": "markdown",
   "metadata": {},
   "source": [
    "A distribuição dessa variável lembra um pouco a `util_linhas_inseguras`, só que possuindo uma distribuição percorrendo mais pelos valores do intervalo de 0 e 1. Para se ter uma melhor noção, veremos a distribuição entre os grupos positivo e negativo."
   ]
  },
  {
   "cell_type": "code",
   "execution_count": 60,
   "metadata": {},
   "outputs": [
    {
     "data": {
      "text/html": [
       "<div>\n",
       "<style scoped>\n",
       "    .dataframe tbody tr th:only-of-type {\n",
       "        vertical-align: middle;\n",
       "    }\n",
       "\n",
       "    .dataframe tbody tr th {\n",
       "        vertical-align: top;\n",
       "    }\n",
       "\n",
       "    .dataframe thead th {\n",
       "        text-align: right;\n",
       "    }\n",
       "</style>\n",
       "<table border=\"1\" class=\"dataframe\">\n",
       "  <thead>\n",
       "    <tr style=\"text-align: right;\">\n",
       "      <th></th>\n",
       "      <th>count</th>\n",
       "      <th>mean</th>\n",
       "      <th>std</th>\n",
       "      <th>min</th>\n",
       "      <th>25%</th>\n",
       "      <th>50%</th>\n",
       "      <th>75%</th>\n",
       "      <th>max</th>\n",
       "    </tr>\n",
       "    <tr>\n",
       "      <th>inadimplente</th>\n",
       "      <th></th>\n",
       "      <th></th>\n",
       "      <th></th>\n",
       "      <th></th>\n",
       "      <th></th>\n",
       "      <th></th>\n",
       "      <th></th>\n",
       "      <th></th>\n",
       "    </tr>\n",
       "  </thead>\n",
       "  <tbody>\n",
       "    <tr>\n",
       "      <th>0</th>\n",
       "      <td>102,669.00</td>\n",
       "      <td>358.44</td>\n",
       "      <td>2,119.32</td>\n",
       "      <td>0.00</td>\n",
       "      <td>0.17</td>\n",
       "      <td>0.36</td>\n",
       "      <td>0.86</td>\n",
       "      <td>329,664.00</td>\n",
       "    </tr>\n",
       "    <tr>\n",
       "      <th>1</th>\n",
       "      <td>7,331.00</td>\n",
       "      <td>304.11</td>\n",
       "      <td>1,283.13</td>\n",
       "      <td>0.00</td>\n",
       "      <td>0.19</td>\n",
       "      <td>0.43</td>\n",
       "      <td>0.90</td>\n",
       "      <td>38,793.00</td>\n",
       "    </tr>\n",
       "  </tbody>\n",
       "</table>\n",
       "</div>"
      ],
      "text/plain": [
       "                  count   mean      std  min  25%  50%  75%        max\n",
       "inadimplente                                                          \n",
       "0            102,669.00 358.44 2,119.32 0.00 0.17 0.36 0.86 329,664.00\n",
       "1              7,331.00 304.11 1,283.13 0.00 0.19 0.43 0.90  38,793.00"
      ]
     },
     "execution_count": 60,
     "metadata": {},
     "output_type": "execute_result"
    }
   ],
   "source": [
    "df.groupby('inadimplente')['razao_debito'].describe()"
   ]
  },
  {
   "cell_type": "markdown",
   "metadata": {},
   "source": [
    "Neste caso, avaliando os pontos das distribuições (sem contar o máximo), elas são bem parecidas, tendo pouca diferença. O valor máximo bem maior em **não inadimplente** faz o desvio ser maior que no caso positivo. Assim como foi feito com `util_linhas_inseguras`, vamos avaliar os valores maiores que 1."
   ]
  },
  {
   "cell_type": "code",
   "execution_count": 61,
   "metadata": {},
   "outputs": [
    {
     "data": {
      "text/plain": [
       "count    25,745.00\n",
       "mean      1,515.05\n",
       "std       4,077.29\n",
       "min           1.00\n",
       "25%          42.00\n",
       "50%         903.00\n",
       "75%       2,224.00\n",
       "max     329,664.00\n",
       "Name: razao_debito, dtype: float64"
      ]
     },
     "execution_count": 61,
     "metadata": {},
     "output_type": "execute_result"
    }
   ],
   "source": [
    "df[df['razao_debito'] > 1.0]['razao_debito'].describe()"
   ]
  },
  {
   "cell_type": "markdown",
   "metadata": {},
   "source": [
    "Aqui podemos ver a diferença em comparação ao `util_linhas_inseguras`, pois os valores acima de 1 possuem uma grande quantidade (acima de 25000 valores) e sua distribuição já começa a subir rapidamente. Veremos a quantidade de exemplos entre os dados positivos e negativos."
   ]
  },
  {
   "cell_type": "code",
   "execution_count": 62,
   "metadata": {},
   "outputs": [
    {
     "data": {
      "text/plain": [
       "0    24055\n",
       "1     1690\n",
       "Name: inadimplente, dtype: int64"
      ]
     },
     "execution_count": 62,
     "metadata": {},
     "output_type": "execute_result"
    }
   ],
   "source": [
    "df[df['razao_debito'] > 1.0]['inadimplente'].value_counts()"
   ]
  },
  {
   "cell_type": "markdown",
   "metadata": {},
   "source": [
    "A quantidade de **inadimplentes** com razão debito maior que 1 equivale a $23\\%$ do total. Esta é uma quantidade considerável, principalmente observando que existem poucos exemplos positivos. Na etapa de **processamento de dados**, será necessário ter uma certa atenção com este dado, devido a sua alta variância (e muitos *outliers*)."
   ]
  },
  {
   "cell_type": "markdown",
   "metadata": {},
   "source": [
    "## Variável: `numero_linhas_crdto_aberto`\n",
    "\n",
    "Esta variável indica o número de empréstimos em aberto pelo cliente."
   ]
  },
  {
   "cell_type": "markdown",
   "metadata": {},
   "source": [
    "### Valores `NaNs`"
   ]
  },
  {
   "cell_type": "code",
   "execution_count": 63,
   "metadata": {},
   "outputs": [
    {
     "name": "stdout",
     "output_type": "stream",
     "text": [
      "Verificando a coluna numero_linhas_crdto_aberto\n",
      "Quantidade de valores nulos: 0 [0.00%]\n",
      "Quantidade de valores nulos (inadimplente): 0 [0.00%]\n",
      "Quantidade de valores nulos (não inadimplente): 0 [0.00%]\n"
     ]
    }
   ],
   "source": [
    "verifica_nans('numero_linhas_crdto_aberto')"
   ]
  },
  {
   "cell_type": "markdown",
   "metadata": {},
   "source": [
    "Mais uma vez, nenhum valor nulo encontrado."
   ]
  },
  {
   "cell_type": "markdown",
   "metadata": {},
   "source": [
    "### Distribuição"
   ]
  },
  {
   "cell_type": "code",
   "execution_count": 64,
   "metadata": {},
   "outputs": [
    {
     "data": {
      "text/plain": [
       "count   110,000.00\n",
       "mean          8.45\n",
       "std           5.14\n",
       "min           0.00\n",
       "25%           5.00\n",
       "50%           8.00\n",
       "75%          11.00\n",
       "max          58.00\n",
       "Name: numero_linhas_crdto_aberto, dtype: float64"
      ]
     },
     "execution_count": 64,
     "metadata": {},
     "output_type": "execute_result"
    }
   ],
   "source": [
    "df['numero_linhas_crdto_aberto'].describe()"
   ]
  },
  {
   "cell_type": "markdown",
   "metadata": {},
   "source": [
    "Esta distribuição possui um comportamento mais próximo da distribuição normal, tendo uma variação visivel entre os quartis. Além disso, a média e mediana possui valores bem próximos, o que também é uma ótima indicação. Veremos sua distribuição divindo entre **inadimplentes** e **não inadimplentes**."
   ]
  },
  {
   "cell_type": "code",
   "execution_count": 65,
   "metadata": {},
   "outputs": [
    {
     "data": {
      "text/html": [
       "<div>\n",
       "<style scoped>\n",
       "    .dataframe tbody tr th:only-of-type {\n",
       "        vertical-align: middle;\n",
       "    }\n",
       "\n",
       "    .dataframe tbody tr th {\n",
       "        vertical-align: top;\n",
       "    }\n",
       "\n",
       "    .dataframe thead th {\n",
       "        text-align: right;\n",
       "    }\n",
       "</style>\n",
       "<table border=\"1\" class=\"dataframe\">\n",
       "  <thead>\n",
       "    <tr style=\"text-align: right;\">\n",
       "      <th></th>\n",
       "      <th>count</th>\n",
       "      <th>mean</th>\n",
       "      <th>std</th>\n",
       "      <th>min</th>\n",
       "      <th>25%</th>\n",
       "      <th>50%</th>\n",
       "      <th>75%</th>\n",
       "      <th>max</th>\n",
       "    </tr>\n",
       "    <tr>\n",
       "      <th>inadimplente</th>\n",
       "      <th></th>\n",
       "      <th></th>\n",
       "      <th></th>\n",
       "      <th></th>\n",
       "      <th></th>\n",
       "      <th></th>\n",
       "      <th></th>\n",
       "      <th></th>\n",
       "    </tr>\n",
       "  </thead>\n",
       "  <tbody>\n",
       "    <tr>\n",
       "      <th>0</th>\n",
       "      <td>102,669.00</td>\n",
       "      <td>8.49</td>\n",
       "      <td>5.10</td>\n",
       "      <td>0.00</td>\n",
       "      <td>5.00</td>\n",
       "      <td>8.00</td>\n",
       "      <td>11.00</td>\n",
       "      <td>58.00</td>\n",
       "    </tr>\n",
       "    <tr>\n",
       "      <th>1</th>\n",
       "      <td>7,331.00</td>\n",
       "      <td>7.88</td>\n",
       "      <td>5.66</td>\n",
       "      <td>0.00</td>\n",
       "      <td>4.00</td>\n",
       "      <td>7.00</td>\n",
       "      <td>11.00</td>\n",
       "      <td>52.00</td>\n",
       "    </tr>\n",
       "  </tbody>\n",
       "</table>\n",
       "</div>"
      ],
      "text/plain": [
       "                  count  mean  std  min  25%  50%   75%   max\n",
       "inadimplente                                                 \n",
       "0            102,669.00  8.49 5.10 0.00 5.00 8.00 11.00 58.00\n",
       "1              7,331.00  7.88 5.66 0.00 4.00 7.00 11.00 52.00"
      ]
     },
     "execution_count": 65,
     "metadata": {},
     "output_type": "execute_result"
    }
   ],
   "source": [
    "df.groupby('inadimplente')['numero_linhas_crdto_aberto'].describe()"
   ]
  },
  {
   "cell_type": "markdown",
   "metadata": {},
   "source": [
    "A distribuição dos dois grupos possuem um comportamento bem próximo e ambos tem o dado máximo (*outlier*) com valores parecidos. Veremos como a distribuição se comporta através do Histograma."
   ]
  },
  {
   "cell_type": "code",
   "execution_count": 66,
   "metadata": {},
   "outputs": [
    {
     "data": {
      "image/png": "[encoded data removed]",
      "text/plain": [
       "<Figure size 1080x720 with 1 Axes>"
      ]
     },
     "metadata": {},
     "output_type": "display_data"
    }
   ],
   "source": [
    "sns.histplot(data=df, x='numero_linhas_crdto_aberto', hue='inadimplente', bins=59, \n",
    "             stat='probability', common_norm=False)\n",
    "\n",
    "plt.title('Histograma do Número de Empréstimos em Aberto pelo cliente')\n",
    "plt.xlabel('Número de Empréstimos em Aberto pelo cliente')\n",
    "plt.ylabel('Porcentagem')\n",
    "plt.show()"
   ]
  },
  {
   "cell_type": "markdown",
   "metadata": {},
   "source": [
    "Analisando o gráfico, é possível ver que entre 0 e 3 emprestimos abertos, o cliente tem mais chance de ser **inadimplente**. Entre 4 e 13, o comportamento se inverte, tendo mais chance de ser **não inadimplente**. Em valores a cima disso, possui uma chance pequena e bem próxima entre os 2 grupos."
   ]
  },
  {
   "cell_type": "markdown",
   "metadata": {},
   "source": [
    "### *Outliers*\n",
    "\n",
    "Com a distribuição mais concentrada do lado esquerdo, é esperado que os valores *outliers* sejam os mais altos do conjunto (ainda mais com uma média próxima de 8 e desvio padrão próximo de 5)."
   ]
  },
  {
   "cell_type": "markdown",
   "metadata": {},
   "source": [
    "Então, primeiramente veremos os outliers através do cálculo do *Z-Score* maior que 3."
   ]
  },
  {
   "cell_type": "code",
   "execution_count": 67,
   "metadata": {},
   "outputs": [
    {
     "name": "stdout",
     "output_type": "stream",
     "text": [
      "Quantidade de outliers (Z-Score): 1346\n"
     ]
    }
   ],
   "source": [
    "outliers = df[(np.abs(stats.zscore(df['numero_linhas_crdto_aberto'])) > 3)]\n",
    "\n",
    "print('Quantidade de outliers (Z-Score):', outliers.shape[0])"
   ]
  },
  {
   "cell_type": "markdown",
   "metadata": {},
   "source": [
    "Nesta técnica, a quantidade de valores encontrados é bastante alta. Veremos como esses outliers estão divididos entre as classes positivas e negativas."
   ]
  },
  {
   "cell_type": "code",
   "execution_count": 68,
   "metadata": {},
   "outputs": [
    {
     "data": {
      "text/plain": [
       "0    1249\n",
       "1      97\n",
       "Name: inadimplente, dtype: int64"
      ]
     },
     "execution_count": 68,
     "metadata": {},
     "output_type": "execute_result"
    }
   ],
   "source": [
    "outliers['inadimplente'].value_counts()"
   ]
  },
  {
   "cell_type": "markdown",
   "metadata": {},
   "source": [
    "A grande maioria é exemplos negativos. Em um conjunto com uma grande quantidade exemplos **não inadimplentes**, talvez não seja de todo ruim retirar os outliers deste caso."
   ]
  },
  {
   "cell_type": "markdown",
   "metadata": {},
   "source": [
    "Veremos como os outliers são visualizados através do gráfico de caixa."
   ]
  },
  {
   "cell_type": "code",
   "execution_count": 69,
   "metadata": {},
   "outputs": [
    {
     "data": {
      "image/png": "[encoded data removed]",
      "text/plain": [
       "<Figure size 1080x360 with 1 Axes>"
      ]
     },
     "metadata": {},
     "output_type": "display_data"
    }
   ],
   "source": [
    "plt.figure(figsize=(15,5))\n",
    "sns.boxplot(data=df, x='numero_linhas_crdto_aberto')\n",
    "\n",
    "plt.title('Gráfico de Caixa do Número de Empréstimos em Aberto pelo cliente')\n",
    "plt.xlabel('Número de Empréstimos em Aberto pelo cliente')\n",
    "plt.show()"
   ]
  },
  {
   "cell_type": "markdown",
   "metadata": {},
   "source": [
    "Como foi explicado no inicio da seção, todos os outliers estão acima do limite superior, variando de 20 até 58. Só por informação, veremos a quantidade de *outliers* utilizando o método de IQR."
   ]
  },
  {
   "cell_type": "code",
   "execution_count": 70,
   "metadata": {},
   "outputs": [
    {
     "name": "stdout",
     "output_type": "stream",
     "text": [
      "Quantidade de Outliers (IQR): 2911\n"
     ]
    }
   ],
   "source": [
    "outliers_iqr('numero_linhas_crdto_aberto')"
   ]
  },
  {
   "cell_type": "markdown",
   "metadata": {},
   "source": [
    "## Variável: `numero_de_vezes_que_passou_60_89_dias`\n",
    "\n",
    "Esta variável indica o número de vezes que o cliente atrasou, entre 60 e 89 dias, o pagamento de um empréstimo. Novamente, esta variável tem o mesmo principio dos intervalos de 30 a 59 dias, e acima de 90 dias."
   ]
  },
  {
   "cell_type": "markdown",
   "metadata": {},
   "source": [
    "### Valores `NaNs`"
   ]
  },
  {
   "cell_type": "code",
   "execution_count": 71,
   "metadata": {},
   "outputs": [
    {
     "name": "stdout",
     "output_type": "stream",
     "text": [
      "Verificando a coluna numero_de_vezes_que_passou_60_89_dias\n",
      "Quantidade de valores nulos: 0 [0.00%]\n",
      "Quantidade de valores nulos (inadimplente): 0 [0.00%]\n",
      "Quantidade de valores nulos (não inadimplente): 0 [0.00%]\n"
     ]
    }
   ],
   "source": [
    "verifica_nans('numero_de_vezes_que_passou_60_89_dias')"
   ]
  },
  {
   "cell_type": "markdown",
   "metadata": {},
   "source": [
    "Ultima coluna a ser verificada e não possui valores nulos. Então, iremos para distribuição."
   ]
  },
  {
   "cell_type": "markdown",
   "metadata": {},
   "source": [
    "### Distribuição"
   ]
  },
  {
   "cell_type": "code",
   "execution_count": 72,
   "metadata": {},
   "outputs": [
    {
     "data": {
      "text/plain": [
       "count   110,000.00\n",
       "mean          0.24\n",
       "std           4.20\n",
       "min           0.00\n",
       "25%           0.00\n",
       "50%           0.00\n",
       "75%           0.00\n",
       "max          98.00\n",
       "Name: numero_de_vezes_que_passou_60_89_dias, dtype: float64"
      ]
     },
     "execution_count": 72,
     "metadata": {},
     "output_type": "execute_result"
    }
   ],
   "source": [
    "df['numero_de_vezes_que_passou_60_89_dias'].describe()"
   ]
  },
  {
   "cell_type": "markdown",
   "metadata": {},
   "source": [
    "E novamente, a distribuição dos dados está praticamente igual as outras colunas (que possuem o intervalo de tempo diferente). Para não ter explicações repetidas, vamos conferir a distribuição entre **inadimplentes** e **não inadimplentes*."
   ]
  },
  {
   "cell_type": "code",
   "execution_count": 73,
   "metadata": {},
   "outputs": [
    {
     "data": {
      "text/html": [
       "<div>\n",
       "<style scoped>\n",
       "    .dataframe tbody tr th:only-of-type {\n",
       "        vertical-align: middle;\n",
       "    }\n",
       "\n",
       "    .dataframe tbody tr th {\n",
       "        vertical-align: top;\n",
       "    }\n",
       "\n",
       "    .dataframe thead th {\n",
       "        text-align: right;\n",
       "    }\n",
       "</style>\n",
       "<table border=\"1\" class=\"dataframe\">\n",
       "  <thead>\n",
       "    <tr style=\"text-align: right;\">\n",
       "      <th></th>\n",
       "      <th>count</th>\n",
       "      <th>mean</th>\n",
       "      <th>std</th>\n",
       "      <th>min</th>\n",
       "      <th>25%</th>\n",
       "      <th>50%</th>\n",
       "      <th>75%</th>\n",
       "      <th>max</th>\n",
       "    </tr>\n",
       "    <tr>\n",
       "      <th>inadimplente</th>\n",
       "      <th></th>\n",
       "      <th></th>\n",
       "      <th></th>\n",
       "      <th></th>\n",
       "      <th></th>\n",
       "      <th></th>\n",
       "      <th></th>\n",
       "      <th></th>\n",
       "    </tr>\n",
       "  </thead>\n",
       "  <tbody>\n",
       "    <tr>\n",
       "      <th>0</th>\n",
       "      <td>102,669.00</td>\n",
       "      <td>0.13</td>\n",
       "      <td>2.96</td>\n",
       "      <td>0.00</td>\n",
       "      <td>0.00</td>\n",
       "      <td>0.00</td>\n",
       "      <td>0.00</td>\n",
       "      <td>98.00</td>\n",
       "    </tr>\n",
       "    <tr>\n",
       "      <th>1</th>\n",
       "      <td>7,331.00</td>\n",
       "      <td>1.84</td>\n",
       "      <td>11.83</td>\n",
       "      <td>0.00</td>\n",
       "      <td>0.00</td>\n",
       "      <td>0.00</td>\n",
       "      <td>1.00</td>\n",
       "      <td>98.00</td>\n",
       "    </tr>\n",
       "  </tbody>\n",
       "</table>\n",
       "</div>"
      ],
      "text/plain": [
       "                  count  mean   std  min  25%  50%  75%   max\n",
       "inadimplente                                                 \n",
       "0            102,669.00  0.13  2.96 0.00 0.00 0.00 0.00 98.00\n",
       "1              7,331.00  1.84 11.83 0.00 0.00 0.00 1.00 98.00"
      ]
     },
     "execution_count": 73,
     "metadata": {},
     "output_type": "execute_result"
    }
   ],
   "source": [
    "df.groupby('inadimplente')['numero_de_vezes_que_passou_60_89_dias'].describe()"
   ]
  },
  {
   "cell_type": "markdown",
   "metadata": {},
   "source": [
    "Assim como antes, a distribuição está bem próxima das colunas anteriores, mas mais próximo da de 90 dias. Veremos como fica a visualização dados através do Histograma."
   ]
  },
  {
   "cell_type": "code",
   "execution_count": 74,
   "metadata": {},
   "outputs": [
    {
     "data": {
      "image/png": "[encoded data removed]",
      "text/plain": [
       "<Figure size 1080x720 with 1 Axes>"
      ]
     },
     "metadata": {},
     "output_type": "display_data"
    }
   ],
   "source": [
    "sns.histplot(data=df, x='numero_de_vezes_que_passou_60_89_dias', hue='inadimplente', bins=99, \n",
    "             stat='probability', common_norm=False)\n",
    "\n",
    "plt.title('Histograma do número de vezes que estava no intervalo de 60 a 89 dias')\n",
    "plt.xlabel('Número de vezes que estava no intervalo de 60 a 89 dias')\n",
    "plt.ylabel('Porcentagem')\n",
    "plt.show()"
   ]
  },
  {
   "cell_type": "markdown",
   "metadata": {},
   "source": [
    "E assim como as outras 2 colunas, a partir dos valores a cima de zero, a possibilidade de ser **inadimplente** é maior. Com isso em mente, é bem possível que a utilização destas 3 colunas sejam de grande auxílio na solução do problema."
   ]
  },
  {
   "cell_type": "markdown",
   "metadata": {},
   "source": [
    "# Conclusão\n",
    "\n",
    "Após análise geral dos dados e as informações retiradas de cada uma das variáveis, é possível organizar *insights* adquiridos:"
   ]
  },
  {
   "cell_type": "markdown",
   "metadata": {},
   "source": [
    "## Dados não balanceados\n",
    "\n",
    "Através da análise inicial, foi observado que os dados **não são** balanceados. Isto significa que o modelo pode ter dificuldade no aprendizado da informação. Para ser mais exato, o dataset possuí um total de $110.000$ linhas com a a coluna a ser predita tendo apenas 2 valores possíveis: **inadimplente (1)** ou **não (0)**. A informação está preenchida de tal maneira:\n",
    "\n",
    "| Inadimplente? | Quantidade | Porcentagem |\n",
    "| - | -: | -: |\n",
    "| **Não** | $102.669$ | $93,34\\%$ |\n",
    "| **Sim** | $7.331$ | $6,66\\%$ |"
   ]
  },
  {
   "cell_type": "markdown",
   "metadata": {},
   "source": [
    "## Idade\n",
    "\n",
    "A variável `idade` **não possuí** valores faltantes e seus dados estão bem distribuídos. Ela possuí apenas $36$ *outliers*, o que não faria grande falta se retirasse esses dados do *dataset*. Além disso, uma possível modificação deste dado seria o agrupamento por faixa-etaria."
   ]
  },
  {
   "cell_type": "markdown",
   "metadata": {},
   "source": [
    "## Número de dependentes\n",
    "\n",
    "A variável `numero_de_dependentes` **possui** $2.878$ valores faltantes, sendo eles distribuídos da seguinte maneira:\n",
    "\n",
    "| Grupo | Quantidade | Porcentagem sobre o grupo |\n",
    "| - | -: | -: |\n",
    "| **Inadimplente** | $132$ | $1,80\\%$ |\n",
    "| **Não Inadimplente** | $2.746$ | $2,67 \\%$ |\n",
    "| **Total** | $2.878$ | $2,62\\%$ |\n",
    "\n",
    "Como essas quantidades são pequenas, podemos preencher com elas com o valor $0$, que neste caso estamos apenas dizendo: *O não preenchimento de depentes, significa que não tem dependentes.*\n",
    "\n",
    "Além disso, nesta coluna começamos a encontrar bastante valores *outliers*, seja pelo método *Z-Score* (739) ou *IQR* (9748). Como se trata de uma grande quantidade de valores, podendo perder informação importante, a solução que será aplicada é a inserção dos dados em grupos. Exemplificado:\n",
    "\n",
    "| Quantidade | Grupo |\n",
    "| - | - |\n",
    "| 0 | Sem dependentes |\n",
    "| 1 | Um dependente |\n",
    "| 2 | Dois dependentes |\n",
    "| 3,4 | Três a Quatro dependentes |\n",
    "| 4+ | 5 ou mais dependentes |\n",
    "\n",
    "*Estes grupos não estão totalmente definidos e podem ser modificados na etapa de* *__Processamento de Dados__.*"
   ]
  },
  {
   "cell_type": "markdown",
   "metadata": {},
   "source": [
    "## Salário Mensal\n",
    "\n",
    "A variável `salario_mensal` **possui** $21.763$ valores faltantes, sendo eles distribuídos da seguinte maneira:\n",
    "\n",
    "| Grupo | Quantidade | Porcentagem sobre o grupo |\n",
    "| - | -: | -: |\n",
    "| **Inadimplente** | $1.247$ | $17,01\\%$ |\n",
    "| **Não Inadimplente** | $20.516$ | $19,98 \\%$ |\n",
    "| **Total** | $21.763$ | $19.78\\%$ |\n",
    "\n",
    "As quantidades de valores nulos são bem **consideráveis** para esta coluna, podendo perder $1/5$ dos dados em caso de retirada dessas informações. A não adição do salário pode ser resolvida adicionando o valor $0$, que neste caso significa que: *O não preenchimento do salário, significa que não tem salário*. Entretanto, isto pode ser \"contornado\" pela solução explicada a seguir.\n",
    "\n",
    "Ao analisar a quantidade de *outliers* e sua distribuição, notamos que existe valores muito maiores que o restante, fazendo a média e o desvio padrão dos dados aumentarem bastante. Sendo assim, uma possível solução trataria de organizar os dados em grupos. Exemplificando: \n",
    "\n",
    "* **Grupo 1**: Sem salário ou não informado\n",
    "* **Grupo 2**: Até 2 Salários mínimos\n",
    "* **Grupo 3**: Até 4 Salários mínimos\n",
    "* *...*\n",
    "\n",
    "_Estes grupos não foram especificados e serão definidos durante a etapa de **Processamento de Dados**._"
   ]
  },
  {
   "cell_type": "markdown",
   "metadata": {},
   "source": [
    "## Quantidade de Empréstimos Imobiliários\n",
    "\n",
    "A variável `numero_emprestimos_imobiliarios` **não possui** valores faltantes e seus dados não são muito bem distribuídos, tendo a grande maioria dos dados com valores entre $0$ e $1$. Como o seu valor máximo é $20$ e tendo poucos valores a partir de 3, uma boa ideia seria o agrupamento das quantidades em grupos, como:\n",
    "\n",
    "* **Grupo 1**: Sem empréstimos\n",
    "* **Grupo 2**: Um empréstimo\n",
    "* **Grupo 3**: Dois empréstimos\n",
    "* **Grupo 4**: Três ou mais empréstimos\n",
    "\n",
    "_Estes grupos não foram especificados e serão definidos durante a etapa de **Processamento de Dados**._"
   ]
  },
  {
   "cell_type": "markdown",
   "metadata": {},
   "source": [
    "## Linhas de crédito inseguras relativas ao seu limite\n",
    "\n",
    "A variável `util_linhas_inseguras` **não possui** valores faltantes e seus dados não são muito bem distribuídos, pois a grande maioria dos seus dados se encontrados no intervalo real de $0$ até $1$, mas possuindo o valor máximo de $50.708$. $2452$ valores são maiores que $1$ e apenas $272$ são maiores que $2$. Uma possível solução para retirar os dados discrepantes deste conjunto seria limitar os seus valores, onde se seu valor for maior que $2$, ele é modificado para $2$.\n",
    "\n",
    "_Estes valores a serem modificados não foram especificados e serão definidos durante a etapa de **Processamento de Dados**._"
   ]
  },
  {
   "cell_type": "markdown",
   "metadata": {},
   "source": [
    "## Razão entre as dívidas e o patrimônio \n",
    "\n",
    "A variável `razao_debito` **não possui** valores faltantes e seus dados não são muito bem distribuídos, tendo a grande maioria dos seus dados no intervalo real de $0$ até $1$, mas possuindo o valor máximo de $329.664$. Entretanto, $23\\%$ dos dados são maiores do que $1$ e possuindo diversos valores até chegar ao seu máximo. Neste caso, adicionar um limite como `util_linhas_inseguras` **pode não ser** a melhor alternativa. **Esta é uma das colunas para ter bastante atenção durante a etapa de Processamento de Dados, pois os valores maiores que 1 contém uma grande parcela dos Inadimplentes**."
   ]
  },
  {
   "cell_type": "markdown",
   "metadata": {},
   "source": [
    "## Número de Empréstimos Aberto\n",
    "\n",
    "A variável `numero_linhas_crdto_aberto` **não possui** valores faltantes e seus dados estão melhores distribuídos que os demais, tendo grande parte da seus valores entre $0$ e $11$, e possuindo o valor máximo de $58$. Avaliando seu comportamento através do histograma, foi verificado que dependendo da quantidade, ocorre uma **inversão de probabilidade** de ser **Inadimplente ou não**. \n",
    "\n",
    "Foi encontrado $1.346$ *outliers* através do método de *Z-Score* e $2.911$ utilizando o *IQR*. Com esta grande quantidade de *outliers*, pode não ser uma boa a eliminação de tais valores **MAS** ao verificar a distribuição, foi notado apenas $97$ como **inadimplentes**. Como a quantidade de exemplos negativos é bem grande, a eliminação deles pode não ter um grande impacto no treinamento dos modelos. "
   ]
  },
  {
   "cell_type": "markdown",
   "metadata": {},
   "source": [
    "## Número de vezes que o cliente atrasou o pagamento de um empréstimo\n",
    "\n",
    "Esta informação está inserida em 3 colunas diferentes, apenas mudando o intervalo de tempo referente ao atraso. As variáveis são as seguintes:\n",
    "\n",
    "* **`vezes_passou_de_30_59_dias`** - Intervalo entre 30 e 59 dias\n",
    "* **`numero_de_vezes_que_passou_60_89_dias`** - Intervalo entre 60 e 89 dias\n",
    "* **`numero_vezes_passou_90_dias`** - Intervalo maior que 90 dias\n",
    "\n",
    "Todas as colunas **não possuem** dados faltantes, tendo suas distribuições bem parecidas. A esmagadora maioria dos dados não possuem $0$ atrasos, tendo o seus máximos em $98$. Como a maioria está zerada e todas as outras quantidades possuem mais registros de **inadimplentes**, o que já em si é um bom indicativo.\n",
    "\n",
    "Para tratar os dados *outliers* destas colunas, será feita a modificação de quantidade para um registro `Booleano`. Neste sentido, as colunas irão apenas funcionar com o princípio de: _**JÁ ATRASOU OU NÃO** o pagamento de um empréstimo._"
   ]
  }
 ],
 "metadata": {
  "kernelspec": {
   "display_name": "Python 3",
   "language": "python",
   "name": "python3"
  },
  "language_info": {
   "codemirror_mode": {
    "name": "ipython",
    "version": 3
   },
   "file_extension": ".py",
   "mimetype": "text/x-python",
   "name": "python",
   "nbconvert_exporter": "python",
   "pygments_lexer": "ipython3",
   "version": "3.7.6"
  },
  "toc": {
   "base_numbering": 1,
   "nav_menu": {},
   "number_sections": true,
   "sideBar": true,
   "skip_h1_title": false,
   "title_cell": "Table of Contents",
   "title_sidebar": "Contents",
   "toc_cell": false,
   "toc_position": {
    "height": "calc(100% - 180px)",
    "left": "10px",
    "top": "150px",
    "width": "384px"
   },
   "toc_section_display": true,
   "toc_window_display": true
  }
 },
 "nbformat": 4,
 "nbformat_minor": 4
}
