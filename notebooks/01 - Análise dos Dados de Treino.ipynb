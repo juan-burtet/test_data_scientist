{
 "cells": [
  {
   "cell_type": "markdown",
   "metadata": {},
   "source": [
    "# 01 - Análise dos Dados de Treino\n",
    "\n",
    "A primeira etapa a ser feito durante o projeto é a __Análise dos Dados__. Como nesta avaliação, os dados de treino e teste já estão separados, iremos considerar que o teste é os dados com o modelo já em produção. __Sendo assim, apenas o melhor modelo treinado será utilizado no conjunto de teste, para não ter nenhum vazamento de informação.__"
   ]
  },
  {
   "cell_type": "markdown",
   "metadata": {},
   "source": [
    "## Pacotes e inicializações importantes"
   ]
  },
  {
   "cell_type": "code",
   "execution_count": 158,
   "metadata": {},
   "outputs": [],
   "source": [
    "import pandas as pd\n",
    "import numpy as np\n",
    "import matplotlib.pyplot as plt\n",
    "from matplotlib import rcParams\n",
    "import seaborn as sns\n",
    "from scipy import stats\n",
    "\n",
    "%matplotlib inline\n",
    "sns.set()\n",
    "\n",
    "# usado para o valor float do Pandas ficar neste formato\n",
    "pd.options.display.float_format = '{:,.2f}'.format\n",
    "\n",
    "# Tamanho da Figura ao imprimir os gráficos\n",
    "rcParams['figure.figsize'] = 15, 10"
   ]
  },
  {
   "cell_type": "markdown",
   "metadata": {},
   "source": [
    "## Leitura dos dados de treino"
   ]
  },
  {
   "cell_type": "code",
   "execution_count": 159,
   "metadata": {},
   "outputs": [
    {
     "data": {
      "text/html": [
       "<div>\n",
       "<style scoped>\n",
       "    .dataframe tbody tr th:only-of-type {\n",
       "        vertical-align: middle;\n",
       "    }\n",
       "\n",
       "    .dataframe tbody tr th {\n",
       "        vertical-align: top;\n",
       "    }\n",
       "\n",
       "    .dataframe thead th {\n",
       "        text-align: right;\n",
       "    }\n",
       "</style>\n",
       "<table border=\"1\" class=\"dataframe\">\n",
       "  <thead>\n",
       "    <tr style=\"text-align: right;\">\n",
       "      <th></th>\n",
       "      <th>inadimplente</th>\n",
       "      <th>util_linhas_inseguras</th>\n",
       "      <th>idade</th>\n",
       "      <th>vezes_passou_de_30_59_dias</th>\n",
       "      <th>razao_debito</th>\n",
       "      <th>salario_mensal</th>\n",
       "      <th>numero_linhas_crdto_aberto</th>\n",
       "      <th>numero_vezes_passou_90_dias</th>\n",
       "      <th>numero_emprestimos_imobiliarios</th>\n",
       "      <th>numero_de_vezes_que_passou_60_89_dias</th>\n",
       "      <th>numero_de_dependentes</th>\n",
       "    </tr>\n",
       "  </thead>\n",
       "  <tbody>\n",
       "    <tr>\n",
       "      <th>0</th>\n",
       "      <td>1</td>\n",
       "      <td>0.77</td>\n",
       "      <td>45</td>\n",
       "      <td>2</td>\n",
       "      <td>0.80</td>\n",
       "      <td>9,120.00</td>\n",
       "      <td>13</td>\n",
       "      <td>0</td>\n",
       "      <td>6</td>\n",
       "      <td>0</td>\n",
       "      <td>2.00</td>\n",
       "    </tr>\n",
       "    <tr>\n",
       "      <th>1</th>\n",
       "      <td>0</td>\n",
       "      <td>0.96</td>\n",
       "      <td>40</td>\n",
       "      <td>0</td>\n",
       "      <td>0.12</td>\n",
       "      <td>2,600.00</td>\n",
       "      <td>4</td>\n",
       "      <td>0</td>\n",
       "      <td>0</td>\n",
       "      <td>0</td>\n",
       "      <td>1.00</td>\n",
       "    </tr>\n",
       "    <tr>\n",
       "      <th>2</th>\n",
       "      <td>0</td>\n",
       "      <td>0.66</td>\n",
       "      <td>38</td>\n",
       "      <td>1</td>\n",
       "      <td>0.09</td>\n",
       "      <td>3,042.00</td>\n",
       "      <td>2</td>\n",
       "      <td>1</td>\n",
       "      <td>0</td>\n",
       "      <td>0</td>\n",
       "      <td>0.00</td>\n",
       "    </tr>\n",
       "    <tr>\n",
       "      <th>3</th>\n",
       "      <td>0</td>\n",
       "      <td>0.23</td>\n",
       "      <td>30</td>\n",
       "      <td>0</td>\n",
       "      <td>0.04</td>\n",
       "      <td>3,300.00</td>\n",
       "      <td>5</td>\n",
       "      <td>0</td>\n",
       "      <td>0</td>\n",
       "      <td>0</td>\n",
       "      <td>0.00</td>\n",
       "    </tr>\n",
       "    <tr>\n",
       "      <th>4</th>\n",
       "      <td>0</td>\n",
       "      <td>0.91</td>\n",
       "      <td>49</td>\n",
       "      <td>1</td>\n",
       "      <td>0.02</td>\n",
       "      <td>63,588.00</td>\n",
       "      <td>7</td>\n",
       "      <td>0</td>\n",
       "      <td>1</td>\n",
       "      <td>0</td>\n",
       "      <td>0.00</td>\n",
       "    </tr>\n",
       "  </tbody>\n",
       "</table>\n",
       "</div>"
      ],
      "text/plain": [
       "   inadimplente  util_linhas_inseguras  idade  vezes_passou_de_30_59_dias  \\\n",
       "0             1                   0.77     45                           2   \n",
       "1             0                   0.96     40                           0   \n",
       "2             0                   0.66     38                           1   \n",
       "3             0                   0.23     30                           0   \n",
       "4             0                   0.91     49                           1   \n",
       "\n",
       "   razao_debito  salario_mensal  numero_linhas_crdto_aberto  \\\n",
       "0          0.80        9,120.00                          13   \n",
       "1          0.12        2,600.00                           4   \n",
       "2          0.09        3,042.00                           2   \n",
       "3          0.04        3,300.00                           5   \n",
       "4          0.02       63,588.00                           7   \n",
       "\n",
       "   numero_vezes_passou_90_dias  numero_emprestimos_imobiliarios  \\\n",
       "0                            0                                6   \n",
       "1                            0                                0   \n",
       "2                            1                                0   \n",
       "3                            0                                0   \n",
       "4                            0                                1   \n",
       "\n",
       "   numero_de_vezes_que_passou_60_89_dias  numero_de_dependentes  \n",
       "0                                      0                   2.00  \n",
       "1                                      0                   1.00  \n",
       "2                                      0                   0.00  \n",
       "3                                      0                   0.00  \n",
       "4                                      0                   0.00  "
      ]
     },
     "execution_count": 159,
     "metadata": {},
     "output_type": "execute_result"
    }
   ],
   "source": [
    "train_path = '../data/raw/treino.csv'\n",
    "\n",
    "df = pd.read_csv(train_path, sep=',')\n",
    "df.head()"
   ]
  },
  {
   "cell_type": "markdown",
   "metadata": {},
   "source": [
    "# Análise Inicial\n",
    "\n",
    "Antes de fazer uma análise a fundo das variáveis, será feito uma análise inicial que dará as seguintes informações:\n",
    "\n",
    "* Formato do `DataFrame` (Quantidade de Linhas, Quantidade de Colunas)\n",
    "* Distribuição da variável **inadimplente** (estamos trabalhando com um conjunto de dados balanceado?)\n",
    "* Os tipos de cada uma das variáveis"
   ]
  },
  {
   "cell_type": "markdown",
   "metadata": {},
   "source": [
    "Antes de tudo, podemos verificar o tamanho do `DataFrame` para se ter uma noção da quantidade de dados que serão utilizados"
   ]
  },
  {
   "cell_type": "code",
   "execution_count": 15,
   "metadata": {},
   "outputs": [
    {
     "data": {
      "text/plain": [
       "(110000, 11)"
      ]
     },
     "execution_count": 15,
     "metadata": {},
     "output_type": "execute_result"
    }
   ],
   "source": [
    "df.shape"
   ]
  },
  {
   "cell_type": "markdown",
   "metadata": {},
   "source": [
    "Outro ponto importante que é bom avaliar prematuramente é a distribuição dos dados, para verificar se o dataset é balanceado ou não."
   ]
  },
  {
   "cell_type": "code",
   "execution_count": 47,
   "metadata": {},
   "outputs": [
    {
     "data": {
      "text/html": [
       "<div>\n",
       "<style scoped>\n",
       "    .dataframe tbody tr th:only-of-type {\n",
       "        vertical-align: middle;\n",
       "    }\n",
       "\n",
       "    .dataframe tbody tr th {\n",
       "        vertical-align: top;\n",
       "    }\n",
       "\n",
       "    .dataframe thead th {\n",
       "        text-align: right;\n",
       "    }\n",
       "</style>\n",
       "<table border=\"1\" class=\"dataframe\">\n",
       "  <thead>\n",
       "    <tr style=\"text-align: right;\">\n",
       "      <th></th>\n",
       "      <th>quantidade</th>\n",
       "      <th>porcentagem</th>\n",
       "    </tr>\n",
       "  </thead>\n",
       "  <tbody>\n",
       "    <tr>\n",
       "      <th>Não Inadimplente</th>\n",
       "      <td>102669</td>\n",
       "      <td>0.93</td>\n",
       "    </tr>\n",
       "    <tr>\n",
       "      <th>Inadimplente</th>\n",
       "      <td>7331</td>\n",
       "      <td>0.07</td>\n",
       "    </tr>\n",
       "  </tbody>\n",
       "</table>\n",
       "</div>"
      ],
      "text/plain": [
       "                  quantidade  porcentagem\n",
       "Não Inadimplente      102669         0.93\n",
       "Inadimplente            7331         0.07"
      ]
     },
     "execution_count": 47,
     "metadata": {},
     "output_type": "execute_result"
    }
   ],
   "source": [
    "# organiza os dados em formato de DataFrame\n",
    "info = pd.DataFrame(df['inadimplente'].value_counts())\n",
    "info.columns = ['quantidade']\n",
    "info['porcentagem'] = info['quantidade'] / info['quantidade'].sum()\n",
    "info.index = ['Não Inadimplente', 'Inadimplente']\n",
    "\n",
    "info"
   ]
  },
  {
   "cell_type": "markdown",
   "metadata": {},
   "source": [
    "Além da visualização em formato `DataFrame`, é possível apresentar a informação em um gráfico de pizza, para termos uma noção de proporção dos dados."
   ]
  },
  {
   "cell_type": "code",
   "execution_count": 51,
   "metadata": {},
   "outputs": [
    {
     "data": {
      "image/png": "[encoded data removed]",
      "text/plain": [
       "<Figure size 1080x720 with 1 Axes>"
      ]
     },
     "metadata": {},
     "output_type": "display_data"
    }
   ],
   "source": [
    "info.plot.pie(y='quantidade', autopct=\"%.2f%%\")\n",
    "\n",
    "plt.title('Distribuição do Dataset')\n",
    "plt.ylabel('')\n",
    "plt.show()"
   ]
  },
  {
   "cell_type": "markdown",
   "metadata": {},
   "source": [
    "Neste caso, a distribuição da variável **inadimplente** é de 93/7, onde 93% dos dados **NÃO SÃO** inadimplentes e 7% **SÃO** inadimplentes. Isto é algo para se tomar cuidado, pois em um modelo que apenas respondesse como **NÃO INADIMPLENTE** teria uma acurácia de 93%, o que parece bom como um resultado sem nenhum contexto, mas se tratando de um modelo que não é capaz de fazer nada. "
   ]
  },
  {
   "cell_type": "markdown",
   "metadata": {},
   "source": [
    "E por fim, verificamos os tipos de cada uma das variáveis do `DataFrame` através do método **dtypes**"
   ]
  },
  {
   "cell_type": "code",
   "execution_count": 16,
   "metadata": {},
   "outputs": [
    {
     "data": {
      "text/plain": [
       "inadimplente                               int64\n",
       "util_linhas_inseguras                    float64\n",
       "idade                                      int64\n",
       "vezes_passou_de_30_59_dias                 int64\n",
       "razao_debito                             float64\n",
       "salario_mensal                           float64\n",
       "numero_linhas_crdto_aberto                 int64\n",
       "numero_vezes_passou_90_dias                int64\n",
       "numero_emprestimos_imobiliarios            int64\n",
       "numero_de_vezes_que_passou_60_89_dias      int64\n",
       "numero_de_dependentes                    float64\n",
       "dtype: object"
      ]
     },
     "execution_count": 16,
     "metadata": {},
     "output_type": "execute_result"
    }
   ],
   "source": [
    "df.dtypes"
   ]
  },
  {
   "cell_type": "markdown",
   "metadata": {},
   "source": [
    "Todas as variáveis do dataset são númericas, o que já é um trabalho a menos pois não teremos que trabalhar com transformações necessárias em variáveis categóricas."
   ]
  },
  {
   "cell_type": "markdown",
   "metadata": {},
   "source": [
    "Com as informações adquiridas, podemos passar para uma análise mais afundo de cada uma das variáveis."
   ]
  },
  {
   "cell_type": "markdown",
   "metadata": {},
   "source": [
    "# Análisando cada uma das variáveis\n",
    "\n",
    "Nesta seção será feito uma análise mais afundo de cada uma das variáveis, onde será verificado sua distribuição, se existe valores *outliers* e se seu comportamento é muito diferente no caso de ser **inadimplente ou não**."
   ]
  },
  {
   "cell_type": "markdown",
   "metadata": {},
   "source": [
    "No arquivo **README.md** do projeto é feito uma descrição de cada uma das variáveis. Esta informação será apresentada aqui para ter um melhor entendimento de cada uma delas (removendo a variável **inadimplente**)\n",
    "\n",
    "| Váriavel \t| Descrição \t|\n",
    "|:-\t|:-\t|\n",
    "| idade | *A idade do cliente* |\n",
    "| numero_de_dependentes | *O número de pessoas dependentes do cliente* |\n",
    "| salario_mensal | *Salário mensal do cliente* |\n",
    "| numero_emprestimos_imobiliarios | *Quantidade de empréstimos imobiliários que o cliente possui em aberto* |\n",
    "| numero_vezes_passou_90_dias | *Número de vezes que o tomador passou mais de 90 dias em atraso* |\n",
    "| util_linhas_inseguras | *Quanto que o cliente está usando, relativamente ao limite dele, de linhas de crédito que não são seguradas por qualquer bem do tomador e.g: imoveis, carros etc* |\n",
    "| vezes_passou_de_30_59_dias | *Número de vezes que o cliente atrasou, entre 30 e 59 dias, o pagamento de um empréstimo* |\n",
    "| razao_debito | *Razão entre as dívidas e o patrimônio do tomador. razão débito = Dividas/Patrimônio* |\n",
    "| numero_linhas_crdto_aberto | *Número de empréstimos em aberto pelo cliente* |\n",
    "| numero_de_vezes_que_passou_60_89_dias | *Número de vezes que o cliente atrasou, entre 60 e 89 dias, o pagamento de um empréstimo* |\n",
    "\n",
    "**Para uma melhor organização, a análise será feita na mesma ordem da tabela.**"
   ]
  },
  {
   "cell_type": "markdown",
   "metadata": {},
   "source": [
    "## Variável: `idade`\n",
    "\n",
    "A variável idade é auto explicatória, pois indica a idade do cliente."
   ]
  },
  {
   "cell_type": "markdown",
   "metadata": {},
   "source": [
    "### Valores `NaNs`\n",
    "\n",
    "Uma das primeiras verificações a ser feita ao avaliar uma coluna é procurar a presença de valores **NaNs** (ou nulos)"
   ]
  },
  {
   "cell_type": "code",
   "execution_count": 167,
   "metadata": {},
   "outputs": [],
   "source": [
    "def verifica_nans(column):\n",
    "    total = df[column].isna().sum()\n",
    "    true_qt = df.query('inadimplente == 1')[column].isna().sum()\n",
    "    false_qt = total - true_qt\n",
    "    \n",
    "    print('Verificando a coluna', column)\n",
    "    print('Quantidade de valores nulos:', total)\n",
    "    print('Quantidade de valores nulos (inadimplente):', true_qt)\n",
    "    print('Quantidade de valores nulos (não inadimplente):', false_qt)"
   ]
  },
  {
   "cell_type": "code",
   "execution_count": 168,
   "metadata": {},
   "outputs": [
    {
     "name": "stdout",
     "output_type": "stream",
     "text": [
      "Verificando a coluna idade\n",
      "Quantidade de valores nulos: 0\n",
      "Quantidade de valores nulos (inadimplente): 0\n",
      "Quantidade de valores nulos (não inadimplente): 0\n"
     ]
    }
   ],
   "source": [
    "verifica_nans('idade')"
   ]
  },
  {
   "cell_type": "markdown",
   "metadata": {},
   "source": [
    "No caso da variável **idade**, não existe nenhum registro de valores nulos."
   ]
  },
  {
   "cell_type": "markdown",
   "metadata": {},
   "source": [
    "### Distribuição\n",
    "\n",
    "A primeira etapa de verificar a variável, é apresentar sua distribuição. Felizmente, o **Pandas** possuí um método `describe` que já ajuda bastante neste processo, pois apresenta informações sobre a média, desvio padrão, valor mínimo, primeiro quartil, mediana, terceiro quartil e valor máximo."
   ]
  },
  {
   "cell_type": "code",
   "execution_count": 18,
   "metadata": {},
   "outputs": [
    {
     "data": {
      "text/plain": [
       "count   110,000.00\n",
       "mean         52.26\n",
       "std          14.77\n",
       "min           0.00\n",
       "25%          41.00\n",
       "50%          52.00\n",
       "75%          63.00\n",
       "max         109.00\n",
       "Name: idade, dtype: float64"
      ]
     },
     "execution_count": 18,
     "metadata": {},
     "output_type": "execute_result"
    }
   ],
   "source": [
    "df['idade'].describe()"
   ]
  },
  {
   "cell_type": "markdown",
   "metadata": {},
   "source": [
    "Além disso, utilizando o método `groupby` do **Pandas**, é possível agrupar os dados pelos valores de uma variável. Neste caso, utilizando a coluna **inadimplente**, é possível visualizar a distribuição da idade para os dados de inadimplentes e não inadimplentes."
   ]
  },
  {
   "cell_type": "code",
   "execution_count": 57,
   "metadata": {},
   "outputs": [
    {
     "data": {
      "text/html": [
       "<div>\n",
       "<style scoped>\n",
       "    .dataframe tbody tr th:only-of-type {\n",
       "        vertical-align: middle;\n",
       "    }\n",
       "\n",
       "    .dataframe tbody tr th {\n",
       "        vertical-align: top;\n",
       "    }\n",
       "\n",
       "    .dataframe thead th {\n",
       "        text-align: right;\n",
       "    }\n",
       "</style>\n",
       "<table border=\"1\" class=\"dataframe\">\n",
       "  <thead>\n",
       "    <tr style=\"text-align: right;\">\n",
       "      <th></th>\n",
       "      <th>count</th>\n",
       "      <th>mean</th>\n",
       "      <th>std</th>\n",
       "      <th>min</th>\n",
       "      <th>25%</th>\n",
       "      <th>50%</th>\n",
       "      <th>75%</th>\n",
       "      <th>max</th>\n",
       "    </tr>\n",
       "    <tr>\n",
       "      <th>inadimplente</th>\n",
       "      <th></th>\n",
       "      <th></th>\n",
       "      <th></th>\n",
       "      <th></th>\n",
       "      <th></th>\n",
       "      <th></th>\n",
       "      <th></th>\n",
       "      <th></th>\n",
       "    </tr>\n",
       "  </thead>\n",
       "  <tbody>\n",
       "    <tr>\n",
       "      <th>0</th>\n",
       "      <td>102,669.00</td>\n",
       "      <td>52.71</td>\n",
       "      <td>14.78</td>\n",
       "      <td>0.00</td>\n",
       "      <td>42.00</td>\n",
       "      <td>52.00</td>\n",
       "      <td>63.00</td>\n",
       "      <td>109.00</td>\n",
       "    </tr>\n",
       "    <tr>\n",
       "      <th>1</th>\n",
       "      <td>7,331.00</td>\n",
       "      <td>45.94</td>\n",
       "      <td>13.00</td>\n",
       "      <td>21.00</td>\n",
       "      <td>36.00</td>\n",
       "      <td>45.00</td>\n",
       "      <td>54.00</td>\n",
       "      <td>99.00</td>\n",
       "    </tr>\n",
       "  </tbody>\n",
       "</table>\n",
       "</div>"
      ],
      "text/plain": [
       "                  count  mean   std   min   25%   50%   75%    max\n",
       "inadimplente                                                      \n",
       "0            102,669.00 52.71 14.78  0.00 42.00 52.00 63.00 109.00\n",
       "1              7,331.00 45.94 13.00 21.00 36.00 45.00 54.00  99.00"
      ]
     },
     "execution_count": 57,
     "metadata": {},
     "output_type": "execute_result"
    }
   ],
   "source": [
    "df.groupby('inadimplente')['idade'].describe()"
   ]
  },
  {
   "cell_type": "markdown",
   "metadata": {},
   "source": [
    "Em conjunto com a visualização das distribuições, podemos verificar os dados através do seu histograma. Onde cada valor encontrado é quantificado para visualizar como é sua distribuição. Como os dados são bastante desbalanceados, será verificado a porcentagem de cada valor ao conjunto total ao inves da sua quantidade exata.\n",
    "\n",
    "**neste exemplo, será usado 110 bins, pois teremos um \"bin\" (classe) para cada uma das idades (0 até 109, com o 0 incluído)**"
   ]
  },
  {
   "cell_type": "code",
   "execution_count": 85,
   "metadata": {},
   "outputs": [
    {
     "data": {
      "image/png": "[encoded data removed]",
      "text/plain": [
       "<Figure size 1080x720 with 1 Axes>"
      ]
     },
     "metadata": {},
     "output_type": "display_data"
    }
   ],
   "source": [
    "sns.histplot(data=df, x='idade', hue='inadimplente', bins=110, \n",
    "             stat='probability', common_norm=False)\n",
    "\n",
    "plt.title('Histograma das Idades')\n",
    "plt.xlabel('Idade')\n",
    "plt.ylabel('Porcentagem')\n",
    "plt.show()"
   ]
  },
  {
   "cell_type": "markdown",
   "metadata": {},
   "source": [
    "Através da observação do gráfico, é possível verificar que a distribuição da idade nos **inadimplentes** está mais a esquerda, significando que em idades menores, a possibilidade de ser **inadimplente** é maior. Mesmo assim, essa diferença não é tão grande, em um modelo de *Machine Learning*, está informação pode ser utilizada mas não parece ser a melhor indicação."
   ]
  },
  {
   "cell_type": "markdown",
   "metadata": {},
   "source": [
    "### *Outliers*\n",
    "\n",
    "Um dado é chamado de **outlier** quando ele possuí um valor muito diferente da distribuição em si. Como a frase \"muito diferente\" pode indicar muitas coisas, existe algumas técnicas para encontrar tais valores. As mais utilizadas são as seguintes:\n",
    "\n",
    "* *Z-Score* - Verifica a distância do valor pra média, utilizando o desvio padrão. Em outras palavras, quantos \"desvio padrão\" o valor está da média. Em técnicas para eliminar outliers, normalmente é retirado valores que possuem um *Z-Score* maior que 3.\n",
    "* Distância Interquartilica - Neste método, é utilizado a distância interquartilica (IQR) para eliminar valores *outliers* do conjunto de dados. A IQR é calculado através do intervalo entre o Q3 e Q1. Para ver se um valor é outlier, é utilizado a fórmula: $Q1 - 1.5 * IQR$ para valores menores que o Q1 e $Q3 + 1.5 * IQR$ para valores maiores que o Q3.\n",
    "\n",
    "O Método da distância interquartilica é utilizado para verificar *outliers* em um gráfico de caixa. No nosso caso iremos utilizar o *Z-Score* para eliminar os outliers mas faremos a visualização através do gráfico de caixa."
   ]
  },
  {
   "cell_type": "code",
   "execution_count": 155,
   "metadata": {},
   "outputs": [
    {
     "name": "stdout",
     "output_type": "stream",
     "text": [
      "Quantidade de outliers (Z-Score): 36\n"
     ]
    }
   ],
   "source": [
    "outliers = df[(np.abs(stats.zscore(df['idade'])) > 3)]\n",
    "\n",
    "print('Quantidade de outliers (Z-Score):', outliers.shape[0])"
   ]
  },
  {
   "cell_type": "markdown",
   "metadata": {},
   "source": [
    "E agora podemos visualizar os dados representados por um gráfico de caixa."
   ]
  },
  {
   "cell_type": "code",
   "execution_count": 122,
   "metadata": {},
   "outputs": [
    {
     "data": {
      "image/png": "[encoded data removed]",
      "text/plain": [
       "<Figure size 1080x360 with 1 Axes>"
      ]
     },
     "metadata": {},
     "output_type": "display_data"
    }
   ],
   "source": [
    "plt.figure(figsize=(15,5))\n",
    "sns.boxplot(data=df, x='idade')\n",
    "\n",
    "plt.title('Gráfico de Caixa da Idade')\n",
    "plt.xlabel('Idade')\n",
    "plt.show()"
   ]
  },
  {
   "cell_type": "markdown",
   "metadata": {},
   "source": [
    "Os pontos fora dos limites dos \"bigodes\" do gráfico são os valores outliers. Podemos pegar a quantidade exata através da formula matemática."
   ]
  },
  {
   "cell_type": "code",
   "execution_count": 127,
   "metadata": {},
   "outputs": [],
   "source": [
    "def outliers_iqr(column):\n",
    "    q1 = df[column].quantile(.25)\n",
    "    q3 = df[column].quantile(.75)\n",
    "    iqr = q3 - q1\n",
    "\n",
    "    down_limit = q1 - 1.5 * iqr\n",
    "    up_limit = q3 + 1.5 * iqr\n",
    "    \n",
    "    outliers = df[(df[column] > up_limit) | (df[column] < down_limit)]\n",
    "    print('Quantidade de Outliers (IQR):', outliers.shape[0])"
   ]
  },
  {
   "cell_type": "code",
   "execution_count": 128,
   "metadata": {},
   "outputs": [
    {
     "name": "stdout",
     "output_type": "stream",
     "text": [
      "Quantidade de Outliers (IQR): 36\n"
     ]
    }
   ],
   "source": [
    "outliers_iqr('idade')"
   ]
  },
  {
   "cell_type": "markdown",
   "metadata": {},
   "source": [
    "## Variável: `numero_de_dependentes`\n",
    "\n",
    "Esta variável indica a quantidade de depentes que o cliente possuí."
   ]
  },
  {
   "cell_type": "markdown",
   "metadata": {},
   "source": [
    "### Valores `NaNs`"
   ]
  },
  {
   "cell_type": "code",
   "execution_count": 169,
   "metadata": {},
   "outputs": [
    {
     "name": "stdout",
     "output_type": "stream",
     "text": [
      "Verificando a coluna numero_de_dependentes\n",
      "Quantidade de valores nulos: 2878\n",
      "Quantidade de valores nulos (inadimplente): 132\n",
      "Quantidade de valores nulos (não inadimplente): 2746\n"
     ]
    }
   ],
   "source": [
    "verifica_nans('numero_de_dependentes')"
   ]
  },
  {
   "cell_type": "code",
   "execution_count": 170,
   "metadata": {},
   "outputs": [
    {
     "data": {
      "text/plain": [
       "count   107,122.00\n",
       "mean          0.76\n",
       "std           1.11\n",
       "min           0.00\n",
       "25%           0.00\n",
       "50%           0.00\n",
       "75%           1.00\n",
       "max          20.00\n",
       "Name: numero_de_dependentes, dtype: float64"
      ]
     },
     "execution_count": 170,
     "metadata": {},
     "output_type": "execute_result"
    }
   ],
   "source": [
    "df['numero_de_dependentes'].describe()"
   ]
  },
  {
   "cell_type": "code",
   "execution_count": 171,
   "metadata": {},
   "outputs": [
    {
     "data": {
      "text/html": [
       "<div>\n",
       "<style scoped>\n",
       "    .dataframe tbody tr th:only-of-type {\n",
       "        vertical-align: middle;\n",
       "    }\n",
       "\n",
       "    .dataframe tbody tr th {\n",
       "        vertical-align: top;\n",
       "    }\n",
       "\n",
       "    .dataframe thead th {\n",
       "        text-align: right;\n",
       "    }\n",
       "</style>\n",
       "<table border=\"1\" class=\"dataframe\">\n",
       "  <thead>\n",
       "    <tr style=\"text-align: right;\">\n",
       "      <th></th>\n",
       "      <th>count</th>\n",
       "      <th>mean</th>\n",
       "      <th>std</th>\n",
       "      <th>min</th>\n",
       "      <th>25%</th>\n",
       "      <th>50%</th>\n",
       "      <th>75%</th>\n",
       "      <th>max</th>\n",
       "    </tr>\n",
       "    <tr>\n",
       "      <th>inadimplente</th>\n",
       "      <th></th>\n",
       "      <th></th>\n",
       "      <th></th>\n",
       "      <th></th>\n",
       "      <th></th>\n",
       "      <th></th>\n",
       "      <th></th>\n",
       "      <th></th>\n",
       "    </tr>\n",
       "  </thead>\n",
       "  <tbody>\n",
       "    <tr>\n",
       "      <th>0</th>\n",
       "      <td>99,923.00</td>\n",
       "      <td>0.74</td>\n",
       "      <td>1.11</td>\n",
       "      <td>0.00</td>\n",
       "      <td>0.00</td>\n",
       "      <td>0.00</td>\n",
       "      <td>1.00</td>\n",
       "      <td>20.00</td>\n",
       "    </tr>\n",
       "    <tr>\n",
       "      <th>1</th>\n",
       "      <td>7,199.00</td>\n",
       "      <td>0.94</td>\n",
       "      <td>1.21</td>\n",
       "      <td>0.00</td>\n",
       "      <td>0.00</td>\n",
       "      <td>0.00</td>\n",
       "      <td>2.00</td>\n",
       "      <td>8.00</td>\n",
       "    </tr>\n",
       "  </tbody>\n",
       "</table>\n",
       "</div>"
      ],
      "text/plain": [
       "                 count  mean  std  min  25%  50%  75%   max\n",
       "inadimplente                                               \n",
       "0            99,923.00  0.74 1.11 0.00 0.00 0.00 1.00 20.00\n",
       "1             7,199.00  0.94 1.21 0.00 0.00 0.00 2.00  8.00"
      ]
     },
     "execution_count": 171,
     "metadata": {},
     "output_type": "execute_result"
    }
   ],
   "source": [
    "df.groupby('inadimplente')['numero_de_dependentes'].describe()"
   ]
  },
  {
   "cell_type": "code",
   "execution_count": 172,
   "metadata": {},
   "outputs": [],
   "source": [
    "df['numero_de_dependentes'] = df['numero_de_dependentes'].fillna(0)"
   ]
  },
  {
   "cell_type": "code",
   "execution_count": 173,
   "metadata": {},
   "outputs": [
    {
     "data": {
      "image/png": "[encoded data removed]",
      "text/plain": [
       "<Figure size 1080x720 with 1 Axes>"
      ]
     },
     "metadata": {},
     "output_type": "display_data"
    }
   ],
   "source": [
    "sns.histplot(data=df, x='numero_de_dependentes', hue='inadimplente', bins=21,\n",
    "             stat='probability', common_norm=False)\n",
    "\n",
    "plt.title('Histograma das Idades')\n",
    "plt.xlabel('Idade')\n",
    "plt.ylabel('Porcentagem')\n",
    "plt.show()"
   ]
  },
  {
   "cell_type": "code",
   "execution_count": 174,
   "metadata": {},
   "outputs": [
    {
     "name": "stdout",
     "output_type": "stream",
     "text": [
      "Quantidade de outliers (Z-Score): 739\n"
     ]
    }
   ],
   "source": [
    "outliers = df[(np.abs(stats.zscore(df['numero_de_dependentes'])) > 3)]\n",
    "\n",
    "print('Quantidade de outliers (Z-Score):', outliers.shape[0])"
   ]
  },
  {
   "cell_type": "code",
   "execution_count": 175,
   "metadata": {},
   "outputs": [
    {
     "name": "stdout",
     "output_type": "stream",
     "text": [
      "Quantidade de Outliers (IQR): 9748\n"
     ]
    }
   ],
   "source": [
    "outliers_iqr('numero_de_dependentes')"
   ]
  },
  {
   "cell_type": "markdown",
   "metadata": {},
   "source": [
    "## Variável: `salario_mensal`"
   ]
  },
  {
   "cell_type": "code",
   "execution_count": 176,
   "metadata": {},
   "outputs": [
    {
     "name": "stdout",
     "output_type": "stream",
     "text": [
      "Verificando a coluna salario_mensal\n",
      "Quantidade de valores nulos: 21763\n",
      "Quantidade de valores nulos (inadimplente): 1247\n",
      "Quantidade de valores nulos (não inadimplente): 20516\n"
     ]
    }
   ],
   "source": [
    "verifica_nans('salario_mensal')"
   ]
  },
  {
   "cell_type": "code",
   "execution_count": 177,
   "metadata": {},
   "outputs": [
    {
     "data": {
      "text/plain": [
       "count      88,237.00\n",
       "mean        6,637.41\n",
       "std        13,383.95\n",
       "min             0.00\n",
       "25%         3,400.00\n",
       "50%         5,400.00\n",
       "75%         8,225.00\n",
       "max     3,008,750.00\n",
       "Name: salario_mensal, dtype: float64"
      ]
     },
     "execution_count": 177,
     "metadata": {},
     "output_type": "execute_result"
    }
   ],
   "source": [
    "df['salario_mensal'].describe()"
   ]
  },
  {
   "cell_type": "code",
   "execution_count": 178,
   "metadata": {},
   "outputs": [
    {
     "data": {
      "text/html": [
       "<div>\n",
       "<style scoped>\n",
       "    .dataframe tbody tr th:only-of-type {\n",
       "        vertical-align: middle;\n",
       "    }\n",
       "\n",
       "    .dataframe tbody tr th {\n",
       "        vertical-align: top;\n",
       "    }\n",
       "\n",
       "    .dataframe thead th {\n",
       "        text-align: right;\n",
       "    }\n",
       "</style>\n",
       "<table border=\"1\" class=\"dataframe\">\n",
       "  <thead>\n",
       "    <tr style=\"text-align: right;\">\n",
       "      <th></th>\n",
       "      <th>count</th>\n",
       "      <th>mean</th>\n",
       "      <th>std</th>\n",
       "      <th>min</th>\n",
       "      <th>25%</th>\n",
       "      <th>50%</th>\n",
       "      <th>75%</th>\n",
       "      <th>max</th>\n",
       "    </tr>\n",
       "    <tr>\n",
       "      <th>inadimplente</th>\n",
       "      <th></th>\n",
       "      <th></th>\n",
       "      <th></th>\n",
       "      <th></th>\n",
       "      <th></th>\n",
       "      <th></th>\n",
       "      <th></th>\n",
       "      <th></th>\n",
       "    </tr>\n",
       "  </thead>\n",
       "  <tbody>\n",
       "    <tr>\n",
       "      <th>0</th>\n",
       "      <td>82,153.00</td>\n",
       "      <td>6,711.24</td>\n",
       "      <td>13,755.72</td>\n",
       "      <td>0.00</td>\n",
       "      <td>3,465.00</td>\n",
       "      <td>5,455.00</td>\n",
       "      <td>8,333.00</td>\n",
       "      <td>3,008,750.00</td>\n",
       "    </tr>\n",
       "    <tr>\n",
       "      <th>1</th>\n",
       "      <td>6,084.00</td>\n",
       "      <td>5,640.44</td>\n",
       "      <td>6,467.50</td>\n",
       "      <td>0.00</td>\n",
       "      <td>3,000.00</td>\n",
       "      <td>4,500.00</td>\n",
       "      <td>6,800.00</td>\n",
       "      <td>250,000.00</td>\n",
       "    </tr>\n",
       "  </tbody>\n",
       "</table>\n",
       "</div>"
      ],
      "text/plain": [
       "                 count     mean       std  min      25%      50%      75%  \\\n",
       "inadimplente                                                                \n",
       "0            82,153.00 6,711.24 13,755.72 0.00 3,465.00 5,455.00 8,333.00   \n",
       "1             6,084.00 5,640.44  6,467.50 0.00 3,000.00 4,500.00 6,800.00   \n",
       "\n",
       "                      max  \n",
       "inadimplente               \n",
       "0            3,008,750.00  \n",
       "1              250,000.00  "
      ]
     },
     "execution_count": 178,
     "metadata": {},
     "output_type": "execute_result"
    }
   ],
   "source": [
    "df.groupby('inadimplente')['salario_mensal'].describe()"
   ]
  },
  {
   "cell_type": "code",
   "execution_count": 182,
   "metadata": {},
   "outputs": [
    {
     "name": "stdout",
     "output_type": "stream",
     "text": [
      "47\n",
      "1169\n"
     ]
    }
   ],
   "source": [
    "x = df.query('inadimplente == 1')\n",
    "y = df.query('inadimplente == 0')\n",
    "\n",
    "print(x[x['salario_mensal'] == 0].shape[0])\n",
    "print(y[y['salario_mensal'] == 0].shape[0])"
   ]
  },
  {
   "cell_type": "code",
   "execution_count": 180,
   "metadata": {},
   "outputs": [
    {
     "data": {
      "text/plain": [
       "inadimplente\n",
       "0    82153\n",
       "1     6084\n",
       "Name: salario_mensal, dtype: int64"
      ]
     },
     "execution_count": 180,
     "metadata": {},
     "output_type": "execute_result"
    }
   ],
   "source": [
    "df.groupby('inadimplente')['salario_mensal'].count()"
   ]
  },
  {
   "cell_type": "markdown",
   "metadata": {},
   "source": [
    "## Variável: `numero_emprestimos_imobiliarios`"
   ]
  },
  {
   "cell_type": "code",
   "execution_count": 183,
   "metadata": {},
   "outputs": [
    {
     "name": "stdout",
     "output_type": "stream",
     "text": [
      "Verificando a coluna numero_emprestimos_imobiliarios\n",
      "Quantidade de valores nulos: 0\n",
      "Quantidade de valores nulos (inadimplente): 0\n",
      "Quantidade de valores nulos (não inadimplente): 0\n"
     ]
    }
   ],
   "source": [
    "verifica_nans('numero_emprestimos_imobiliarios')"
   ]
  },
  {
   "cell_type": "code",
   "execution_count": 184,
   "metadata": {},
   "outputs": [
    {
     "data": {
      "text/plain": [
       "count   110,000.00\n",
       "mean          1.02\n",
       "std           1.14\n",
       "min           0.00\n",
       "25%           0.00\n",
       "50%           1.00\n",
       "75%           2.00\n",
       "max          54.00\n",
       "Name: numero_emprestimos_imobiliarios, dtype: float64"
      ]
     },
     "execution_count": 184,
     "metadata": {},
     "output_type": "execute_result"
    }
   ],
   "source": [
    "df['numero_emprestimos_imobiliarios'].describe()"
   ]
  },
  {
   "cell_type": "code",
   "execution_count": 185,
   "metadata": {},
   "outputs": [
    {
     "data": {
      "text/html": [
       "<div>\n",
       "<style scoped>\n",
       "    .dataframe tbody tr th:only-of-type {\n",
       "        vertical-align: middle;\n",
       "    }\n",
       "\n",
       "    .dataframe tbody tr th {\n",
       "        vertical-align: top;\n",
       "    }\n",
       "\n",
       "    .dataframe thead th {\n",
       "        text-align: right;\n",
       "    }\n",
       "</style>\n",
       "<table border=\"1\" class=\"dataframe\">\n",
       "  <thead>\n",
       "    <tr style=\"text-align: right;\">\n",
       "      <th></th>\n",
       "      <th>count</th>\n",
       "      <th>mean</th>\n",
       "      <th>std</th>\n",
       "      <th>min</th>\n",
       "      <th>25%</th>\n",
       "      <th>50%</th>\n",
       "      <th>75%</th>\n",
       "      <th>max</th>\n",
       "    </tr>\n",
       "    <tr>\n",
       "      <th>inadimplente</th>\n",
       "      <th></th>\n",
       "      <th></th>\n",
       "      <th></th>\n",
       "      <th></th>\n",
       "      <th></th>\n",
       "      <th></th>\n",
       "      <th></th>\n",
       "      <th></th>\n",
       "    </tr>\n",
       "  </thead>\n",
       "  <tbody>\n",
       "    <tr>\n",
       "      <th>0</th>\n",
       "      <td>102,669.00</td>\n",
       "      <td>1.02</td>\n",
       "      <td>1.11</td>\n",
       "      <td>0.00</td>\n",
       "      <td>0.00</td>\n",
       "      <td>1.00</td>\n",
       "      <td>2.00</td>\n",
       "      <td>54.00</td>\n",
       "    </tr>\n",
       "    <tr>\n",
       "      <th>1</th>\n",
       "      <td>7,331.00</td>\n",
       "      <td>0.99</td>\n",
       "      <td>1.47</td>\n",
       "      <td>0.00</td>\n",
       "      <td>0.00</td>\n",
       "      <td>1.00</td>\n",
       "      <td>2.00</td>\n",
       "      <td>29.00</td>\n",
       "    </tr>\n",
       "  </tbody>\n",
       "</table>\n",
       "</div>"
      ],
      "text/plain": [
       "                  count  mean  std  min  25%  50%  75%   max\n",
       "inadimplente                                                \n",
       "0            102,669.00  1.02 1.11 0.00 0.00 1.00 2.00 54.00\n",
       "1              7,331.00  0.99 1.47 0.00 0.00 1.00 2.00 29.00"
      ]
     },
     "execution_count": 185,
     "metadata": {},
     "output_type": "execute_result"
    }
   ],
   "source": [
    "df.groupby('inadimplente')['numero_emprestimos_imobiliarios'].describe()"
   ]
  },
  {
   "cell_type": "code",
   "execution_count": 189,
   "metadata": {},
   "outputs": [
    {
     "data": {
      "image/png": "[encoded data removed]",
      "text/plain": [
       "<Figure size 1080x720 with 1 Axes>"
      ]
     },
     "metadata": {},
     "output_type": "display_data"
    }
   ],
   "source": [
    "sns.histplot(data=df, x='numero_emprestimos_imobiliarios', hue='inadimplente', bins=55, \n",
    "             stat='probability', common_norm=False)\n",
    "\n",
    "plt.title('Histograma do Número de Emprestimos Imobiliários')\n",
    "plt.xlabel('Número de Emprestimos Imobiliários')\n",
    "plt.ylabel('Porcentagem')\n",
    "plt.show()"
   ]
  },
  {
   "cell_type": "code",
   "execution_count": 190,
   "metadata": {},
   "outputs": [
    {
     "name": "stdout",
     "output_type": "stream",
     "text": [
      "Quantidade de outliers (Z-Score): 1081\n"
     ]
    }
   ],
   "source": [
    "outliers = df[(np.abs(stats.zscore(df['numero_emprestimos_imobiliarios'])) > 3)]\n",
    "\n",
    "print('Quantidade de outliers (Z-Score):', outliers.shape[0])"
   ]
  },
  {
   "cell_type": "code",
   "execution_count": 191,
   "metadata": {},
   "outputs": [
    {
     "data": {
      "image/png": "[encoded data removed]",
      "text/plain": [
       "<Figure size 1080x360 with 1 Axes>"
      ]
     },
     "metadata": {},
     "output_type": "display_data"
    }
   ],
   "source": [
    "plt.figure(figsize=(15,5))\n",
    "sns.boxplot(data=df, x='numero_emprestimos_imobiliarios')\n",
    "\n",
    "plt.title('Gráfico de Caixa da Idade')\n",
    "plt.xlabel('Idade')\n",
    "plt.show()"
   ]
  },
  {
   "cell_type": "code",
   "execution_count": 192,
   "metadata": {},
   "outputs": [
    {
     "name": "stdout",
     "output_type": "stream",
     "text": [
      "Quantidade de Outliers (IQR): 585\n"
     ]
    }
   ],
   "source": [
    "outliers_iqr('numero_emprestimos_imobiliarios')"
   ]
  },
  {
   "cell_type": "code",
   "execution_count": 196,
   "metadata": {},
   "outputs": [],
   "source": [
    "df = df.fillna(0)"
   ]
  },
  {
   "cell_type": "code",
   "execution_count": 199,
   "metadata": {},
   "outputs": [
    {
     "data": {
      "text/html": [
       "<div>\n",
       "<style scoped>\n",
       "    .dataframe tbody tr th:only-of-type {\n",
       "        vertical-align: middle;\n",
       "    }\n",
       "\n",
       "    .dataframe tbody tr th {\n",
       "        vertical-align: top;\n",
       "    }\n",
       "\n",
       "    .dataframe thead th {\n",
       "        text-align: right;\n",
       "    }\n",
       "</style>\n",
       "<table border=\"1\" class=\"dataframe\">\n",
       "  <thead>\n",
       "    <tr style=\"text-align: right;\">\n",
       "      <th></th>\n",
       "      <th>inadimplente</th>\n",
       "      <th>util_linhas_inseguras</th>\n",
       "      <th>idade</th>\n",
       "      <th>vezes_passou_de_30_59_dias</th>\n",
       "      <th>razao_debito</th>\n",
       "      <th>salario_mensal</th>\n",
       "      <th>numero_linhas_crdto_aberto</th>\n",
       "      <th>numero_vezes_passou_90_dias</th>\n",
       "      <th>numero_emprestimos_imobiliarios</th>\n",
       "      <th>numero_de_vezes_que_passou_60_89_dias</th>\n",
       "      <th>numero_de_dependentes</th>\n",
       "    </tr>\n",
       "  </thead>\n",
       "  <tbody>\n",
       "    <tr>\n",
       "      <th>0</th>\n",
       "      <td>1</td>\n",
       "      <td>0.77</td>\n",
       "      <td>45</td>\n",
       "      <td>2</td>\n",
       "      <td>0.80</td>\n",
       "      <td>9,120.00</td>\n",
       "      <td>13</td>\n",
       "      <td>0</td>\n",
       "      <td>6</td>\n",
       "      <td>0</td>\n",
       "      <td>2.00</td>\n",
       "    </tr>\n",
       "    <tr>\n",
       "      <th>4</th>\n",
       "      <td>0</td>\n",
       "      <td>0.91</td>\n",
       "      <td>49</td>\n",
       "      <td>1</td>\n",
       "      <td>0.02</td>\n",
       "      <td>63,588.00</td>\n",
       "      <td>7</td>\n",
       "      <td>0</td>\n",
       "      <td>1</td>\n",
       "      <td>0</td>\n",
       "      <td>0.00</td>\n",
       "    </tr>\n",
       "    <tr>\n",
       "      <th>13</th>\n",
       "      <td>1</td>\n",
       "      <td>0.96</td>\n",
       "      <td>40</td>\n",
       "      <td>3</td>\n",
       "      <td>0.38</td>\n",
       "      <td>13,700.00</td>\n",
       "      <td>9</td>\n",
       "      <td>3</td>\n",
       "      <td>1</td>\n",
       "      <td>1</td>\n",
       "      <td>2.00</td>\n",
       "    </tr>\n",
       "    <tr>\n",
       "      <th>21</th>\n",
       "      <td>1</td>\n",
       "      <td>0.03</td>\n",
       "      <td>38</td>\n",
       "      <td>0</td>\n",
       "      <td>0.48</td>\n",
       "      <td>3,000.00</td>\n",
       "      <td>7</td>\n",
       "      <td>0</td>\n",
       "      <td>1</td>\n",
       "      <td>0</td>\n",
       "      <td>2.00</td>\n",
       "    </tr>\n",
       "    <tr>\n",
       "      <th>25</th>\n",
       "      <td>1</td>\n",
       "      <td>0.39</td>\n",
       "      <td>50</td>\n",
       "      <td>0</td>\n",
       "      <td>1.60</td>\n",
       "      <td>4,676.00</td>\n",
       "      <td>14</td>\n",
       "      <td>0</td>\n",
       "      <td>3</td>\n",
       "      <td>0</td>\n",
       "      <td>1.00</td>\n",
       "    </tr>\n",
       "    <tr>\n",
       "      <th>...</th>\n",
       "      <td>...</td>\n",
       "      <td>...</td>\n",
       "      <td>...</td>\n",
       "      <td>...</td>\n",
       "      <td>...</td>\n",
       "      <td>...</td>\n",
       "      <td>...</td>\n",
       "      <td>...</td>\n",
       "      <td>...</td>\n",
       "      <td>...</td>\n",
       "      <td>...</td>\n",
       "    </tr>\n",
       "    <tr>\n",
       "      <th>109946</th>\n",
       "      <td>0</td>\n",
       "      <td>0.09</td>\n",
       "      <td>78</td>\n",
       "      <td>0</td>\n",
       "      <td>0.48</td>\n",
       "      <td>11,220.00</td>\n",
       "      <td>7</td>\n",
       "      <td>0</td>\n",
       "      <td>5</td>\n",
       "      <td>0</td>\n",
       "      <td>1.00</td>\n",
       "    </tr>\n",
       "    <tr>\n",
       "      <th>109947</th>\n",
       "      <td>0</td>\n",
       "      <td>0.43</td>\n",
       "      <td>76</td>\n",
       "      <td>0</td>\n",
       "      <td>6,357.00</td>\n",
       "      <td>0.00</td>\n",
       "      <td>24</td>\n",
       "      <td>0</td>\n",
       "      <td>4</td>\n",
       "      <td>0</td>\n",
       "      <td>0.00</td>\n",
       "    </tr>\n",
       "    <tr>\n",
       "      <th>109965</th>\n",
       "      <td>0</td>\n",
       "      <td>0.66</td>\n",
       "      <td>57</td>\n",
       "      <td>0</td>\n",
       "      <td>0.36</td>\n",
       "      <td>5,500.00</td>\n",
       "      <td>28</td>\n",
       "      <td>0</td>\n",
       "      <td>1</td>\n",
       "      <td>0</td>\n",
       "      <td>0.00</td>\n",
       "    </tr>\n",
       "    <tr>\n",
       "      <th>109976</th>\n",
       "      <td>0</td>\n",
       "      <td>0.93</td>\n",
       "      <td>38</td>\n",
       "      <td>0</td>\n",
       "      <td>0.17</td>\n",
       "      <td>3,118.00</td>\n",
       "      <td>5</td>\n",
       "      <td>0</td>\n",
       "      <td>0</td>\n",
       "      <td>0</td>\n",
       "      <td>6.00</td>\n",
       "    </tr>\n",
       "    <tr>\n",
       "      <th>109984</th>\n",
       "      <td>0</td>\n",
       "      <td>0.33</td>\n",
       "      <td>78</td>\n",
       "      <td>0</td>\n",
       "      <td>0.52</td>\n",
       "      <td>3,750.00</td>\n",
       "      <td>32</td>\n",
       "      <td>0</td>\n",
       "      <td>0</td>\n",
       "      <td>0</td>\n",
       "      <td>0.00</td>\n",
       "    </tr>\n",
       "  </tbody>\n",
       "</table>\n",
       "<p>10846 rows × 11 columns</p>\n",
       "</div>"
      ],
      "text/plain": [
       "        inadimplente  util_linhas_inseguras  idade  \\\n",
       "0                  1                   0.77     45   \n",
       "4                  0                   0.91     49   \n",
       "13                 1                   0.96     40   \n",
       "21                 1                   0.03     38   \n",
       "25                 1                   0.39     50   \n",
       "...              ...                    ...    ...   \n",
       "109946             0                   0.09     78   \n",
       "109947             0                   0.43     76   \n",
       "109965             0                   0.66     57   \n",
       "109976             0                   0.93     38   \n",
       "109984             0                   0.33     78   \n",
       "\n",
       "        vezes_passou_de_30_59_dias  razao_debito  salario_mensal  \\\n",
       "0                                2          0.80        9,120.00   \n",
       "4                                1          0.02       63,588.00   \n",
       "13                               3          0.38       13,700.00   \n",
       "21                               0          0.48        3,000.00   \n",
       "25                               0          1.60        4,676.00   \n",
       "...                            ...           ...             ...   \n",
       "109946                           0          0.48       11,220.00   \n",
       "109947                           0      6,357.00            0.00   \n",
       "109965                           0          0.36        5,500.00   \n",
       "109976                           0          0.17        3,118.00   \n",
       "109984                           0          0.52        3,750.00   \n",
       "\n",
       "        numero_linhas_crdto_aberto  numero_vezes_passou_90_dias  \\\n",
       "0                               13                            0   \n",
       "4                                7                            0   \n",
       "13                               9                            3   \n",
       "21                               7                            0   \n",
       "25                              14                            0   \n",
       "...                            ...                          ...   \n",
       "109946                           7                            0   \n",
       "109947                          24                            0   \n",
       "109965                          28                            0   \n",
       "109976                           5                            0   \n",
       "109984                          32                            0   \n",
       "\n",
       "        numero_emprestimos_imobiliarios  \\\n",
       "0                                     6   \n",
       "4                                     1   \n",
       "13                                    1   \n",
       "21                                    1   \n",
       "25                                    3   \n",
       "...                                 ...   \n",
       "109946                                5   \n",
       "109947                                4   \n",
       "109965                                1   \n",
       "109976                                0   \n",
       "109984                                0   \n",
       "\n",
       "        numero_de_vezes_que_passou_60_89_dias  numero_de_dependentes  \n",
       "0                                           0                   2.00  \n",
       "4                                           0                   0.00  \n",
       "13                                          1                   2.00  \n",
       "21                                          0                   2.00  \n",
       "25                                          0                   1.00  \n",
       "...                                       ...                    ...  \n",
       "109946                                      0                   1.00  \n",
       "109947                                      0                   0.00  \n",
       "109965                                      0                   0.00  \n",
       "109976                                      0                   6.00  \n",
       "109984                                      0                   0.00  \n",
       "\n",
       "[10846 rows x 11 columns]"
      ]
     },
     "execution_count": 199,
     "metadata": {},
     "output_type": "execute_result"
    }
   ],
   "source": [
    "outliers = df[~(np.abs(stats.zscore(df)) < 3).all(axis=1)]\n",
    "outliers"
   ]
  },
  {
   "cell_type": "code",
   "execution_count": 200,
   "metadata": {},
   "outputs": [
    {
     "data": {
      "text/plain": [
       "1    7331\n",
       "0    3515\n",
       "Name: inadimplente, dtype: int64"
      ]
     },
     "execution_count": 200,
     "metadata": {},
     "output_type": "execute_result"
    }
   ],
   "source": [
    "outliers['inadimplente'].value_counts()"
   ]
  },
  {
   "cell_type": "code",
   "execution_count": null,
   "metadata": {},
   "outputs": [],
   "source": [
    "df[(np.abs(stats.zscore(df)) < 3).all(axis=1)]"
   ]
  },
  {
   "cell_type": "code",
   "execution_count": null,
   "metadata": {},
   "outputs": [],
   "source": [
    "\"\"\"\n",
    "numero_emprestimos_imobiliarios \n",
    "numero_vezes_passou_90_dias \n",
    "util_linhas_inseguras \n",
    "vezes_passou_de_30_59_dias \n",
    "razao_debito \n",
    "numero_linhas_crdto_aberto \n",
    "numero_de_vezes_que_passou_60_89_dias \n",
    "\"\"\""
   ]
  }
 ],
 "metadata": {
  "kernelspec": {
   "display_name": "Python 3",
   "language": "python",
   "name": "python3"
  },
  "language_info": {
   "codemirror_mode": {
    "name": "ipython",
    "version": 3
   },
   "file_extension": ".py",
   "mimetype": "text/x-python",
   "name": "python",
   "nbconvert_exporter": "python",
   "pygments_lexer": "ipython3",
   "version": "3.7.6"
  }
 },
 "nbformat": 4,
 "nbformat_minor": 4
}
